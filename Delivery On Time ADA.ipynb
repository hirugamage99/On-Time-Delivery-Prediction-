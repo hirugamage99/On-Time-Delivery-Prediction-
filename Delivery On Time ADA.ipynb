{
 "cells": [
  {
   "cell_type": "markdown",
   "metadata": {},
   "source": [
    "## Importing Libraries"
   ]
  },
  {
   "cell_type": "code",
   "execution_count": 15,
   "metadata": {},
   "outputs": [],
   "source": [
    "#pip install scipy\n",
    "#pip install lazypredict\n",
    "#pip install scikit-learn"
   ]
  },
  {
   "cell_type": "code",
   "execution_count": 16,
   "metadata": {},
   "outputs": [],
   "source": [
    "import pandas as pd\n",
    "import numpy as np\n",
    "import seaborn as sns\n",
    "import matplotlib.pyplot as plt\n",
    "import re\n",
    "from sklearn.model_selection import train_test_split\n",
    "from lazypredict.Supervised import LazyClassifier\n",
    "from scipy.stats import spearmanr"
   ]
  },
  {
   "cell_type": "markdown",
   "metadata": {},
   "source": [
    "## Importing the \"On-Time\" Dataset"
   ]
  },
  {
   "cell_type": "code",
   "execution_count": 17,
   "metadata": {},
   "outputs": [],
   "source": [
    "mydf = pd.read_csv('C:/Users/Hiroo/Downloads/Campus/Year 3/Semester 2/ST 3082 - Statistical Learning I/Final Project/Train new.csv', encoding='latin-1')"
   ]
  },
  {
   "cell_type": "code",
   "execution_count": 18,
   "metadata": {},
   "outputs": [],
   "source": [
    "df = mydf.copy()"
   ]
  },
  {
   "cell_type": "code",
   "execution_count": 19,
   "metadata": {},
   "outputs": [
    {
     "data": {
      "text/html": [
       "<div>\n",
       "<style scoped>\n",
       "    .dataframe tbody tr th:only-of-type {\n",
       "        vertical-align: middle;\n",
       "    }\n",
       "\n",
       "    .dataframe tbody tr th {\n",
       "        vertical-align: top;\n",
       "    }\n",
       "\n",
       "    .dataframe thead th {\n",
       "        text-align: right;\n",
       "    }\n",
       "</style>\n",
       "<table border=\"1\" class=\"dataframe\">\n",
       "  <thead>\n",
       "    <tr style=\"text-align: right;\">\n",
       "      <th></th>\n",
       "      <th>ID</th>\n",
       "      <th>Warehouse_block</th>\n",
       "      <th>Mode_of_Shipment</th>\n",
       "      <th>Customer_care_calls</th>\n",
       "      <th>Customer_rating</th>\n",
       "      <th>Cost_of_the_Product</th>\n",
       "      <th>Prior_purchases</th>\n",
       "      <th>Product_importance</th>\n",
       "      <th>Gender</th>\n",
       "      <th>Discount_offered</th>\n",
       "      <th>Weight_in_gms</th>\n",
       "      <th>Reached.on.Time_Y.N</th>\n",
       "    </tr>\n",
       "  </thead>\n",
       "  <tbody>\n",
       "    <tr>\n",
       "      <th>0</th>\n",
       "      <td>1</td>\n",
       "      <td>D</td>\n",
       "      <td>Flight</td>\n",
       "      <td>4</td>\n",
       "      <td>2</td>\n",
       "      <td>177</td>\n",
       "      <td>3</td>\n",
       "      <td>low</td>\n",
       "      <td>F</td>\n",
       "      <td>44</td>\n",
       "      <td>1233</td>\n",
       "      <td>1</td>\n",
       "    </tr>\n",
       "    <tr>\n",
       "      <th>1</th>\n",
       "      <td>2</td>\n",
       "      <td>F</td>\n",
       "      <td>Flight</td>\n",
       "      <td>4</td>\n",
       "      <td>5</td>\n",
       "      <td>216</td>\n",
       "      <td>2</td>\n",
       "      <td>low</td>\n",
       "      <td>M</td>\n",
       "      <td>59</td>\n",
       "      <td>3088</td>\n",
       "      <td>1</td>\n",
       "    </tr>\n",
       "    <tr>\n",
       "      <th>2</th>\n",
       "      <td>3</td>\n",
       "      <td>A</td>\n",
       "      <td>Flight</td>\n",
       "      <td>2</td>\n",
       "      <td>2</td>\n",
       "      <td>183</td>\n",
       "      <td>4</td>\n",
       "      <td>low</td>\n",
       "      <td>M</td>\n",
       "      <td>48</td>\n",
       "      <td>3374</td>\n",
       "      <td>1</td>\n",
       "    </tr>\n",
       "    <tr>\n",
       "      <th>3</th>\n",
       "      <td>4</td>\n",
       "      <td>B</td>\n",
       "      <td>Flight</td>\n",
       "      <td>3</td>\n",
       "      <td>3</td>\n",
       "      <td>176</td>\n",
       "      <td>4</td>\n",
       "      <td>medium</td>\n",
       "      <td>M</td>\n",
       "      <td>10</td>\n",
       "      <td>1177</td>\n",
       "      <td>1</td>\n",
       "    </tr>\n",
       "    <tr>\n",
       "      <th>4</th>\n",
       "      <td>5</td>\n",
       "      <td>C</td>\n",
       "      <td>Flight</td>\n",
       "      <td>2</td>\n",
       "      <td>2</td>\n",
       "      <td>184</td>\n",
       "      <td>3</td>\n",
       "      <td>medium</td>\n",
       "      <td>F</td>\n",
       "      <td>46</td>\n",
       "      <td>2484</td>\n",
       "      <td>1</td>\n",
       "    </tr>\n",
       "  </tbody>\n",
       "</table>\n",
       "</div>"
      ],
      "text/plain": [
       "   ID Warehouse_block Mode_of_Shipment  Customer_care_calls  Customer_rating  \\\n",
       "0   1               D           Flight                    4                2   \n",
       "1   2               F           Flight                    4                5   \n",
       "2   3               A           Flight                    2                2   \n",
       "3   4               B           Flight                    3                3   \n",
       "4   5               C           Flight                    2                2   \n",
       "\n",
       "   Cost_of_the_Product  Prior_purchases Product_importance Gender  \\\n",
       "0                  177                3                low      F   \n",
       "1                  216                2                low      M   \n",
       "2                  183                4                low      M   \n",
       "3                  176                4             medium      M   \n",
       "4                  184                3             medium      F   \n",
       "\n",
       "   Discount_offered  Weight_in_gms  Reached.on.Time_Y.N  \n",
       "0                44           1233                    1  \n",
       "1                59           3088                    1  \n",
       "2                48           3374                    1  \n",
       "3                10           1177                    1  \n",
       "4                46           2484                    1  "
      ]
     },
     "execution_count": 19,
     "metadata": {},
     "output_type": "execute_result"
    }
   ],
   "source": [
    "df.head()"
   ]
  },
  {
   "cell_type": "code",
   "execution_count": 20,
   "metadata": {},
   "outputs": [
    {
     "data": {
      "text/plain": [
       "(10999, 12)"
      ]
     },
     "execution_count": 20,
     "metadata": {},
     "output_type": "execute_result"
    }
   ],
   "source": [
    "df.shape"
   ]
  },
  {
   "cell_type": "code",
   "execution_count": 21,
   "metadata": {},
   "outputs": [
    {
     "data": {
      "text/plain": [
       "ID                     0\n",
       "Warehouse_block        0\n",
       "Mode_of_Shipment       0\n",
       "Customer_care_calls    0\n",
       "Customer_rating        0\n",
       "Cost_of_the_Product    0\n",
       "Prior_purchases        0\n",
       "Product_importance     0\n",
       "Gender                 0\n",
       "Discount_offered       0\n",
       "Weight_in_gms          0\n",
       "Reached.on.Time_Y.N    0\n",
       "dtype: int64"
      ]
     },
     "execution_count": 21,
     "metadata": {},
     "output_type": "execute_result"
    }
   ],
   "source": [
    "df.isnull().sum()"
   ]
  },
  {
   "cell_type": "code",
   "execution_count": 22,
   "metadata": {},
   "outputs": [
    {
     "name": "stdout",
     "output_type": "stream",
     "text": [
      "<class 'pandas.core.frame.DataFrame'>\n",
      "RangeIndex: 10999 entries, 0 to 10998\n",
      "Data columns (total 12 columns):\n",
      " #   Column               Non-Null Count  Dtype \n",
      "---  ------               --------------  ----- \n",
      " 0   ID                   10999 non-null  int64 \n",
      " 1   Warehouse_block      10999 non-null  object\n",
      " 2   Mode_of_Shipment     10999 non-null  object\n",
      " 3   Customer_care_calls  10999 non-null  int64 \n",
      " 4   Customer_rating      10999 non-null  int64 \n",
      " 5   Cost_of_the_Product  10999 non-null  int64 \n",
      " 6   Prior_purchases      10999 non-null  int64 \n",
      " 7   Product_importance   10999 non-null  object\n",
      " 8   Gender               10999 non-null  object\n",
      " 9   Discount_offered     10999 non-null  int64 \n",
      " 10  Weight_in_gms        10999 non-null  int64 \n",
      " 11  Reached.on.Time_Y.N  10999 non-null  int64 \n",
      "dtypes: int64(8), object(4)\n",
      "memory usage: 1.0+ MB\n"
     ]
    }
   ],
   "source": [
    "df.info()"
   ]
  },
  {
   "cell_type": "markdown",
   "metadata": {},
   "source": [
    "### Dropping Columns"
   ]
  },
  {
   "cell_type": "code",
   "execution_count": 23,
   "metadata": {},
   "outputs": [],
   "source": [
    "df.drop(columns=['ID'], inplace=True)"
   ]
  },
  {
   "cell_type": "markdown",
   "metadata": {},
   "source": [
    "### Convert Ordinal Numerical Variables into Strings"
   ]
  },
  {
   "cell_type": "code",
   "execution_count": 24,
   "metadata": {},
   "outputs": [
    {
     "data": {
      "text/html": [
       "<div>\n",
       "<style scoped>\n",
       "    .dataframe tbody tr th:only-of-type {\n",
       "        vertical-align: middle;\n",
       "    }\n",
       "\n",
       "    .dataframe tbody tr th {\n",
       "        vertical-align: top;\n",
       "    }\n",
       "\n",
       "    .dataframe thead th {\n",
       "        text-align: right;\n",
       "    }\n",
       "</style>\n",
       "<table border=\"1\" class=\"dataframe\">\n",
       "  <thead>\n",
       "    <tr style=\"text-align: right;\">\n",
       "      <th></th>\n",
       "      <th>Warehouse_block</th>\n",
       "      <th>Mode_of_Shipment</th>\n",
       "      <th>Customer_care_calls</th>\n",
       "      <th>Customer_rating</th>\n",
       "      <th>Cost_of_the_Product</th>\n",
       "      <th>Prior_purchases</th>\n",
       "      <th>Product_importance</th>\n",
       "      <th>Gender</th>\n",
       "      <th>Discount_offered</th>\n",
       "      <th>Weight_in_gms</th>\n",
       "      <th>Reached.on.Time_Y.N</th>\n",
       "    </tr>\n",
       "  </thead>\n",
       "  <tbody>\n",
       "    <tr>\n",
       "      <th>0</th>\n",
       "      <td>D</td>\n",
       "      <td>Flight</td>\n",
       "      <td>4</td>\n",
       "      <td>2</td>\n",
       "      <td>177</td>\n",
       "      <td>3</td>\n",
       "      <td>low</td>\n",
       "      <td>F</td>\n",
       "      <td>44</td>\n",
       "      <td>1233</td>\n",
       "      <td>1</td>\n",
       "    </tr>\n",
       "    <tr>\n",
       "      <th>1</th>\n",
       "      <td>F</td>\n",
       "      <td>Flight</td>\n",
       "      <td>4</td>\n",
       "      <td>5</td>\n",
       "      <td>216</td>\n",
       "      <td>2</td>\n",
       "      <td>low</td>\n",
       "      <td>M</td>\n",
       "      <td>59</td>\n",
       "      <td>3088</td>\n",
       "      <td>1</td>\n",
       "    </tr>\n",
       "    <tr>\n",
       "      <th>2</th>\n",
       "      <td>A</td>\n",
       "      <td>Flight</td>\n",
       "      <td>2</td>\n",
       "      <td>2</td>\n",
       "      <td>183</td>\n",
       "      <td>4</td>\n",
       "      <td>low</td>\n",
       "      <td>M</td>\n",
       "      <td>48</td>\n",
       "      <td>3374</td>\n",
       "      <td>1</td>\n",
       "    </tr>\n",
       "    <tr>\n",
       "      <th>3</th>\n",
       "      <td>B</td>\n",
       "      <td>Flight</td>\n",
       "      <td>3</td>\n",
       "      <td>3</td>\n",
       "      <td>176</td>\n",
       "      <td>4</td>\n",
       "      <td>medium</td>\n",
       "      <td>M</td>\n",
       "      <td>10</td>\n",
       "      <td>1177</td>\n",
       "      <td>1</td>\n",
       "    </tr>\n",
       "    <tr>\n",
       "      <th>4</th>\n",
       "      <td>C</td>\n",
       "      <td>Flight</td>\n",
       "      <td>2</td>\n",
       "      <td>2</td>\n",
       "      <td>184</td>\n",
       "      <td>3</td>\n",
       "      <td>medium</td>\n",
       "      <td>F</td>\n",
       "      <td>46</td>\n",
       "      <td>2484</td>\n",
       "      <td>1</td>\n",
       "    </tr>\n",
       "  </tbody>\n",
       "</table>\n",
       "</div>"
      ],
      "text/plain": [
       "  Warehouse_block Mode_of_Shipment  Customer_care_calls  Customer_rating  \\\n",
       "0               D           Flight                    4                2   \n",
       "1               F           Flight                    4                5   \n",
       "2               A           Flight                    2                2   \n",
       "3               B           Flight                    3                3   \n",
       "4               C           Flight                    2                2   \n",
       "\n",
       "   Cost_of_the_Product  Prior_purchases Product_importance Gender  \\\n",
       "0                  177                3                low      F   \n",
       "1                  216                2                low      M   \n",
       "2                  183                4                low      M   \n",
       "3                  176                4             medium      M   \n",
       "4                  184                3             medium      F   \n",
       "\n",
       "   Discount_offered  Weight_in_gms  Reached.on.Time_Y.N  \n",
       "0                44           1233                    1  \n",
       "1                59           3088                    1  \n",
       "2                48           3374                    1  \n",
       "3                10           1177                    1  \n",
       "4                46           2484                    1  "
      ]
     },
     "execution_count": 24,
     "metadata": {},
     "output_type": "execute_result"
    }
   ],
   "source": [
    "df.head()"
   ]
  },
  {
   "cell_type": "code",
   "execution_count": 25,
   "metadata": {},
   "outputs": [],
   "source": [
    "# Converting 'Customer_rating' and 'Reached.on.Time_Y.N' columns to strings\n",
    "df['Customer_rating'] = df['Customer_rating'].astype(str)\n",
    "df['Reached.on.Time_Y.N'] = df['Reached.on.Time_Y.N'].astype(str)"
   ]
  },
  {
   "cell_type": "markdown",
   "metadata": {},
   "source": [
    "### Recoding Variables "
   ]
  },
  {
   "cell_type": "code",
   "execution_count": 26,
   "metadata": {},
   "outputs": [
    {
     "data": {
      "text/plain": [
       "Prior_purchases\n",
       "high      4445\n",
       "medium    3955\n",
       "low       2599\n",
       "Name: count, dtype: int64"
      ]
     },
     "execution_count": 26,
     "metadata": {},
     "output_type": "execute_result"
    }
   ],
   "source": [
    "def Prior_purchases(x):\n",
    "    if x<=2:\n",
    "        return 'low'\n",
    "    elif x==3:\n",
    "        return 'medium'\n",
    "    elif x>=4:\n",
    "        return 'high'\n",
    "    else:\n",
    "        return x\n",
    "\n",
    "df['Prior_purchases'] = df['Prior_purchases'].apply(lambda x: Prior_purchases(x))\n",
    "df['Prior_purchases'].value_counts()\n",
    "\n",
    "\n"
   ]
  },
  {
   "cell_type": "code",
   "execution_count": 27,
   "metadata": {},
   "outputs": [
    {
     "data": {
      "text/plain": [
       "Customer_care_calls\n",
       "low       3855\n",
       "high      3587\n",
       "medium    3557\n",
       "Name: count, dtype: int64"
      ]
     },
     "execution_count": 27,
     "metadata": {},
     "output_type": "execute_result"
    }
   ],
   "source": [
    "def Customer_care_calls(x):\n",
    "    if x<=3:\n",
    "        return 'low'\n",
    "    elif x==4:\n",
    "        return 'medium'\n",
    "    elif x>=5:\n",
    "        return 'high'\n",
    "    else:\n",
    "        return x\n",
    "\n",
    "df['Customer_care_calls'] = df['Customer_care_calls'].apply(lambda x: Customer_care_calls(x))\n",
    "df['Customer_care_calls'].value_counts()"
   ]
  },
  {
   "cell_type": "code",
   "execution_count": 28,
   "metadata": {},
   "outputs": [
    {
     "name": "stdout",
     "output_type": "stream",
     "text": [
      "<class 'pandas.core.frame.DataFrame'>\n",
      "RangeIndex: 10999 entries, 0 to 10998\n",
      "Data columns (total 11 columns):\n",
      " #   Column               Non-Null Count  Dtype \n",
      "---  ------               --------------  ----- \n",
      " 0   Warehouse_block      10999 non-null  object\n",
      " 1   Mode_of_Shipment     10999 non-null  object\n",
      " 2   Customer_care_calls  10999 non-null  object\n",
      " 3   Customer_rating      10999 non-null  object\n",
      " 4   Cost_of_the_Product  10999 non-null  int64 \n",
      " 5   Prior_purchases      10999 non-null  object\n",
      " 6   Product_importance   10999 non-null  object\n",
      " 7   Gender               10999 non-null  object\n",
      " 8   Discount_offered     10999 non-null  int64 \n",
      " 9   Weight_in_gms        10999 non-null  int64 \n",
      " 10  Reached.on.Time_Y.N  10999 non-null  object\n",
      "dtypes: int64(3), object(8)\n",
      "memory usage: 945.4+ KB\n"
     ]
    }
   ],
   "source": [
    "df.info()"
   ]
  },
  {
   "cell_type": "markdown",
   "metadata": {},
   "source": [
    "### Detecting Outliers"
   ]
  },
  {
   "cell_type": "code",
   "execution_count": 29,
   "metadata": {},
   "outputs": [
    {
     "name": "stdout",
     "output_type": "stream",
     "text": [
      "\n",
      "Analyzing outliers in 'Warehouse_block'\n",
      "No outliers detected in Warehouse_block\n",
      "\n",
      "Analyzing outliers in 'Mode_of_Shipment'\n",
      "No outliers detected in Mode_of_Shipment\n",
      "\n",
      "Analyzing outliers in 'Customer_care_calls'\n",
      "No outliers detected in Customer_care_calls\n",
      "\n",
      "Analyzing outliers in 'Customer_rating'\n",
      "No outliers detected in Customer_rating\n",
      "\n",
      "Analyzing outliers in 'Prior_purchases'\n",
      "No outliers detected in Prior_purchases\n",
      "\n",
      "Analyzing outliers in 'Product_importance'\n",
      "No outliers detected in Product_importance\n",
      "\n",
      "Analyzing outliers in 'Gender'\n",
      "No outliers detected in Gender\n",
      "\n",
      "Analyzing outliers in 'Reached.on.Time_Y.N'\n",
      "No outliers detected in Reached.on.Time_Y.N\n"
     ]
    }
   ],
   "source": [
    "categorical_columns = df.select_dtypes(include=['object']).columns\n",
    "\n",
    "# Define a threshold for what you consider an outlier in terms of frequency\n",
    "frequency_threshold = 5  # Or choose a percentage of total occurrences\n",
    "\n",
    "for column in categorical_columns:\n",
    "    print(f\"\\nAnalyzing outliers in '{column}'\")\n",
    "    # Calculate the frequency of each category\n",
    "    frequency = df[column].value_counts()\n",
    "    # Identify categories with a frequency below the threshold\n",
    "    outliers = frequency[frequency < frequency_threshold].index.tolist()\n",
    "    \n",
    "    if outliers:\n",
    "        print(f\"Outliers in {column}: {outliers}\")\n",
    "    else:\n",
    "        print(f\"No outliers detected in {column}\")"
   ]
  },
  {
   "cell_type": "code",
   "execution_count": 30,
   "metadata": {},
   "outputs": [
    {
     "name": "stdout",
     "output_type": "stream",
     "text": [
      "Number of outliers for each numerical variable using Z-scores:\n",
      "{'Cost_of_the_Product': 0, 'Discount_offered': 181, 'Weight_in_gms': 0}\n"
     ]
    }
   ],
   "source": [
    "from scipy import stats\n",
    "\n",
    "numerical_columns = df.select_dtypes(include=['int64']).columns\n",
    "\n",
    "# Define threshold for outlier detection (e.g., Z-score greater than 3)\n",
    "z_score_threshold = 3\n",
    "\n",
    "# Dictionary to store the number of outliers for each numerical variable\n",
    "outlier_counts = {}\n",
    "\n",
    "# Detect outliers for each numerical variable and count them\n",
    "for column in numerical_columns:\n",
    "    z_scores = stats.zscore(df[column])\n",
    "    outliers_count = sum(abs(z_scores) > z_score_threshold)\n",
    "    outlier_counts[column] = outliers_count\n",
    "\n",
    "print(\"Number of outliers for each numerical variable using Z-scores:\")\n",
    "print(outlier_counts)"
   ]
  },
  {
   "cell_type": "markdown",
   "metadata": {},
   "source": [
    "#### Correlation Between Numerical Variables"
   ]
  },
  {
   "cell_type": "code",
   "execution_count": 31,
   "metadata": {},
   "outputs": [
    {
     "data": {
      "text/plain": [
       "<Axes: >"
      ]
     },
     "execution_count": 31,
     "metadata": {},
     "output_type": "execute_result"
    },
    {
     "data": {
      "image/png": "[encoded data removed]",
      "text/plain": [
       "<Figure size 640x480 with 2 Axes>"
      ]
     },
     "metadata": {},
     "output_type": "display_data"
    }
   ],
   "source": [
    "# Assuming 'df' is your DataFrame\n",
    "numeric_cols = df.select_dtypes(include=[np.number]).columns\n",
    "numeric_df = df[numeric_cols]\n",
    "\n",
    "# Compute correlation matrix using Spearman's rank correlation\n",
    "correlation_matrix = numeric_df.corr()\n",
    "\n",
    "# Create a heatmap plot of the Spearman's rank correlation matrix:\n",
    "sns.heatmap(correlation_matrix, annot=True, cmap='coolwarm', fmt=\".2f\")"
   ]
  },
  {
   "cell_type": "code",
   "execution_count": 32,
   "metadata": {},
   "outputs": [
    {
     "name": "stdout",
     "output_type": "stream",
     "text": [
      "Warehouse_block\n",
      "F    3666\n",
      "D    1834\n",
      "A    1833\n",
      "B    1833\n",
      "C    1833\n",
      "Name: count, dtype: int64\n",
      "Mode_of_Shipment\n",
      "Ship      7462\n",
      "Flight    1777\n",
      "Road      1760\n",
      "Name: count, dtype: int64\n"
     ]
    }
   ],
   "source": [
    "print(df['Warehouse_block'].value_counts())\n",
    "print(df['Mode_of_Shipment'].value_counts())\t"
   ]
  },
  {
   "cell_type": "markdown",
   "metadata": {},
   "source": [
    "## Splitting into Training and Testing"
   ]
  },
  {
   "cell_type": "code",
   "execution_count": 33,
   "metadata": {},
   "outputs": [
    {
     "name": "stdout",
     "output_type": "stream",
     "text": [
      "Training set shape: (8799, 10) (8799,)\n",
      "Testing set shape: (2200, 10) (2200,)\n"
     ]
    }
   ],
   "source": [
    "X = df.drop('Reached.on.Time_Y.N', axis=1)\n",
    "y = df['Reached.on.Time_Y.N']\n",
    "\n",
    "# Split the data into training and testing sets (80% training, 20% testing)\n",
    "X_train, X_test, y_train, y_test = train_test_split(X, y, test_size=0.2, random_state=21)\n",
    "\n",
    "# Print the shapes of the training and testing sets\n",
    "print(\"Training set shape:\", X_train.shape, y_train.shape)\n",
    "print(\"Testing set shape:\", X_test.shape, y_test.shape)"
   ]
  },
  {
   "cell_type": "code",
   "execution_count": 34,
   "metadata": {},
   "outputs": [
    {
     "name": "stdout",
     "output_type": "stream",
     "text": [
      "(8799, 10)\n"
     ]
    }
   ],
   "source": [
    "print(X_train.shape)"
   ]
  },
  {
   "cell_type": "code",
   "execution_count": 35,
   "metadata": {},
   "outputs": [
    {
     "name": "stdout",
     "output_type": "stream",
     "text": [
      "<class 'pandas.core.frame.DataFrame'>\n",
      "Index: 8799 entries, 8077 to 5327\n",
      "Data columns (total 10 columns):\n",
      " #   Column               Non-Null Count  Dtype \n",
      "---  ------               --------------  ----- \n",
      " 0   Warehouse_block      8799 non-null   object\n",
      " 1   Mode_of_Shipment     8799 non-null   object\n",
      " 2   Customer_care_calls  8799 non-null   object\n",
      " 3   Customer_rating      8799 non-null   object\n",
      " 4   Cost_of_the_Product  8799 non-null   int64 \n",
      " 5   Prior_purchases      8799 non-null   object\n",
      " 6   Product_importance   8799 non-null   object\n",
      " 7   Gender               8799 non-null   object\n",
      " 8   Discount_offered     8799 non-null   int64 \n",
      " 9   Weight_in_gms        8799 non-null   int64 \n",
      "dtypes: int64(3), object(7)\n",
      "memory usage: 756.2+ KB\n"
     ]
    }
   ],
   "source": [
    "X_train.info()"
   ]
  },
  {
   "cell_type": "markdown",
   "metadata": {},
   "source": [
    "## Encoding (y_train) Customer_rating Target Variable"
   ]
  },
  {
   "cell_type": "markdown",
   "metadata": {},
   "source": [
    "you typically do not include your target variable in the preprocessing pipeline designed for your features. In scikit-learn pipelines, especially the ColumnTransformer and Pipeline objects, the focus is on transforming the feature matrix \n",
    "�\n",
    "X. The target variable \n",
    "�\n",
    "y is usually treated separately and often does not require the same preprocessing steps as the input features.\n",
    "\n",
    "However, there are scenarios where you might need to preprocess the target variable. This is common in regression tasks where the distribution of the target variable might be skewed. Techniques like log transformation can help normalize the distribution, which can be beneficial for model performance and prediction accuracy. In such cases, you would handle the target variable transformation outside the main feature preprocessing pipeline.\n",
    "\n",
    "\n",
    "\n",
    "\n",
    "\n",
    "Including the target variable—especially an ordinal one—directly within the same preprocessing pipeline as your features (the one that includes transformations like scaling, encoding, etc., for your input features \n",
    "�\n",
    "X) is not standard practice in scikit-learn workflows. The main preprocessing pipeline is typically designed to transform feature data (\n",
    "�\n",
    "X) and not the target variable (\n",
    "�\n",
    "y). This separation is due to the different roles these elements play in the modeling process: \n",
    "�\n",
    "X is what you use to make predictions, and \n",
    "�\n",
    "y is what you're predicting.\n",
    "\n",
    "However, preprocessing the target variable (\n",
    "�\n",
    "y) is sometimes necessary, particularly when dealing with regression tasks (e.g., log transformation of a skewed target) or when specific formats are required by the algorithm (e.g., converting classes to integers for some types of classifiers). For ordinal targets in classification tasks, ensuring that the target variable is appropriately encoded is important. But typically, this preprocessing of \n",
    "�\n",
    "y is handled separately from the ColumnTransformer or Pipeline used for \n",
    "�\n",
    "X.\n",
    "\n",
    "Handling an Ordinal Target Variable\n",
    "If your target variable is ordinal and you're working on a classification task, you might need to ensure it's properly encoded as numerical labels that respect the ordinal nature. This could involve manually encoding the categories to integers that reflect their order, or using an OrdinalEncoder in a preprocessing step specifically for \n",
    "�\n",
    "y, separate from your main feature preprocessing pipeline."
   ]
  },
  {
   "cell_type": "code",
   "execution_count": 22,
   "metadata": {},
   "outputs": [],
   "source": [
    "from sklearn.preprocessing import LabelEncoder\n",
    "\n",
    "# Initialize the LabelEncoder\n",
    "label_encoder = LabelEncoder()\n",
    "\n",
    "# Define the ordinal categories and their corresponding numerical values\n",
    "ordinal_categories = ['0', '1']  # Define the order of categories\n",
    "\n",
    "# Fit the LabelEncoder using the ordinal categories\n",
    "label_encoder.fit(ordinal_categories)\n",
    "\n",
    "# Transform the ordinal variable into numerical labels\n",
    "y_train_encoded = label_encoder.transform(y_train)\n"
   ]
  },
  {
   "cell_type": "code",
   "execution_count": 23,
   "metadata": {},
   "outputs": [],
   "source": [
    "from sklearn.preprocessing import LabelEncoder\n",
    "\n",
    "# Initialize LabelEncoder\n",
    "label_encoder = LabelEncoder()\n",
    "\n",
    "# Fit LabelEncoder on y_train and transform y_train\n",
    "y_train_encoded = label_encoder.fit_transform(y_train)\n",
    "\n",
    "# Now, y_train_encoded will contain numerical labels"
   ]
  },
  {
   "cell_type": "code",
   "execution_count": 24,
   "metadata": {},
   "outputs": [
    {
     "name": "stdout",
     "output_type": "stream",
     "text": [
      "No missing values found in the encoded target variable.\n"
     ]
    }
   ],
   "source": [
    "import numpy as np\n",
    "\n",
    "# Check for missing values in the encoded target variable\n",
    "missing_values = np.isnan(y_train_encoded).sum()\n",
    "\n",
    "# Check if there are any missing values\n",
    "if missing_values == 0:\n",
    "    print(\"No missing values found in the encoded target variable.\")\n",
    "else:\n",
    "    print(\"Missing values found in the encoded target variable.\")"
   ]
  },
  {
   "cell_type": "markdown",
   "metadata": {},
   "source": [
    "## Comparing Models"
   ]
  },
  {
   "cell_type": "code",
   "execution_count": 36,
   "metadata": {},
   "outputs": [
    {
     "data": {
      "text/html": [
       "<div>\n",
       "<style scoped>\n",
       "    .dataframe tbody tr th:only-of-type {\n",
       "        vertical-align: middle;\n",
       "    }\n",
       "\n",
       "    .dataframe tbody tr th {\n",
       "        vertical-align: top;\n",
       "    }\n",
       "\n",
       "    .dataframe thead th {\n",
       "        text-align: right;\n",
       "    }\n",
       "</style>\n",
       "<table border=\"1\" class=\"dataframe\">\n",
       "  <thead>\n",
       "    <tr style=\"text-align: right;\">\n",
       "      <th></th>\n",
       "      <th>Warehouse_block</th>\n",
       "      <th>Mode_of_Shipment</th>\n",
       "      <th>Customer_care_calls</th>\n",
       "      <th>Customer_rating</th>\n",
       "      <th>Cost_of_the_Product</th>\n",
       "      <th>Prior_purchases</th>\n",
       "      <th>Product_importance</th>\n",
       "      <th>Gender</th>\n",
       "      <th>Discount_offered</th>\n",
       "      <th>Weight_in_gms</th>\n",
       "      <th>Reached.on.Time_Y.N</th>\n",
       "    </tr>\n",
       "  </thead>\n",
       "  <tbody>\n",
       "    <tr>\n",
       "      <th>0</th>\n",
       "      <td>D</td>\n",
       "      <td>Flight</td>\n",
       "      <td>medium</td>\n",
       "      <td>2</td>\n",
       "      <td>177</td>\n",
       "      <td>medium</td>\n",
       "      <td>low</td>\n",
       "      <td>F</td>\n",
       "      <td>44</td>\n",
       "      <td>1233</td>\n",
       "      <td>1</td>\n",
       "    </tr>\n",
       "    <tr>\n",
       "      <th>1</th>\n",
       "      <td>F</td>\n",
       "      <td>Flight</td>\n",
       "      <td>medium</td>\n",
       "      <td>5</td>\n",
       "      <td>216</td>\n",
       "      <td>low</td>\n",
       "      <td>low</td>\n",
       "      <td>M</td>\n",
       "      <td>59</td>\n",
       "      <td>3088</td>\n",
       "      <td>1</td>\n",
       "    </tr>\n",
       "    <tr>\n",
       "      <th>2</th>\n",
       "      <td>A</td>\n",
       "      <td>Flight</td>\n",
       "      <td>low</td>\n",
       "      <td>2</td>\n",
       "      <td>183</td>\n",
       "      <td>high</td>\n",
       "      <td>low</td>\n",
       "      <td>M</td>\n",
       "      <td>48</td>\n",
       "      <td>3374</td>\n",
       "      <td>1</td>\n",
       "    </tr>\n",
       "    <tr>\n",
       "      <th>3</th>\n",
       "      <td>B</td>\n",
       "      <td>Flight</td>\n",
       "      <td>low</td>\n",
       "      <td>3</td>\n",
       "      <td>176</td>\n",
       "      <td>high</td>\n",
       "      <td>medium</td>\n",
       "      <td>M</td>\n",
       "      <td>10</td>\n",
       "      <td>1177</td>\n",
       "      <td>1</td>\n",
       "    </tr>\n",
       "    <tr>\n",
       "      <th>4</th>\n",
       "      <td>C</td>\n",
       "      <td>Flight</td>\n",
       "      <td>low</td>\n",
       "      <td>2</td>\n",
       "      <td>184</td>\n",
       "      <td>medium</td>\n",
       "      <td>medium</td>\n",
       "      <td>F</td>\n",
       "      <td>46</td>\n",
       "      <td>2484</td>\n",
       "      <td>1</td>\n",
       "    </tr>\n",
       "  </tbody>\n",
       "</table>\n",
       "</div>"
      ],
      "text/plain": [
       "  Warehouse_block Mode_of_Shipment Customer_care_calls Customer_rating  \\\n",
       "0               D           Flight              medium               2   \n",
       "1               F           Flight              medium               5   \n",
       "2               A           Flight                 low               2   \n",
       "3               B           Flight                 low               3   \n",
       "4               C           Flight                 low               2   \n",
       "\n",
       "   Cost_of_the_Product Prior_purchases Product_importance Gender  \\\n",
       "0                  177          medium                low      F   \n",
       "1                  216             low                low      M   \n",
       "2                  183            high                low      M   \n",
       "3                  176            high             medium      M   \n",
       "4                  184          medium             medium      F   \n",
       "\n",
       "   Discount_offered  Weight_in_gms Reached.on.Time_Y.N  \n",
       "0                44           1233                   1  \n",
       "1                59           3088                   1  \n",
       "2                48           3374                   1  \n",
       "3                10           1177                   1  \n",
       "4                46           2484                   1  "
      ]
     },
     "execution_count": 36,
     "metadata": {},
     "output_type": "execute_result"
    }
   ],
   "source": [
    "df.head()"
   ]
  },
  {
   "cell_type": "markdown",
   "metadata": {},
   "source": [
    "### Comparing Models"
   ]
  },
  {
   "cell_type": "code",
   "execution_count": 37,
   "metadata": {},
   "outputs": [],
   "source": [
    "# 1. Import necessary libraries\n",
    "from lazypredict.Supervised import LazyClassifier\n",
    "from sklearn.datasets import load_iris\n",
    "from sklearn.model_selection import train_test_split\n",
    "from sklearn.pipeline import Pipeline\n",
    "from sklearn.preprocessing import StandardScaler\n",
    "from sklearn.ensemble import RandomForestClassifier\n",
    "from sklearn.metrics import accuracy_score"
   ]
  },
  {
   "cell_type": "code",
   "execution_count": 27,
   "metadata": {},
   "outputs": [
    {
     "name": "stderr",
     "output_type": "stream",
     "text": [
      "  0%|          | 0/29 [00:00<?, ?it/s]"
     ]
    },
    {
     "name": "stderr",
     "output_type": "stream",
     "text": [
      "100%|██████████| 29/29 [00:31<00:00,  1.07s/it]"
     ]
    },
    {
     "name": "stdout",
     "output_type": "stream",
     "text": [
      "[LightGBM] [Info] Number of positive: 5232, number of negative: 3567\n",
      "[LightGBM] [Info] Auto-choosing row-wise multi-threading, the overhead of testing was 0.000801 seconds.\n",
      "You can set `force_row_wise=true` to remove the overhead.\n",
      "And if memory is not enough, you can set `force_col_wise=true`.\n",
      "[LightGBM] [Info] Total Bins 584\n",
      "[LightGBM] [Info] Number of data points in the train set: 8799, number of used features: 27\n",
      "[LightGBM] [Info] [binary:BoostFromScore]: pavg=0.594613 -> initscore=0.383069\n",
      "[LightGBM] [Info] Start training from score 0.383069\n",
      "                               Accuracy  Balanced Accuracy  ROC AUC  F1 Score  \\\n",
      "Model                                                                           \n",
      "SVC                                0.67               0.69     0.69      0.67   \n",
      "GaussianNB                         0.63               0.69      NaN      0.62   \n",
      "NearestCentroid                    0.66               0.69     0.69      0.66   \n",
      "AdaBoostClassifier                 0.66               0.68     0.68      0.66   \n",
      "BernoulliNB                        0.66               0.68      NaN      0.67   \n",
      "LGBMClassifier                     0.65               0.67     0.67      0.65   \n",
      "RandomForestClassifier             0.66               0.66     0.66      0.66   \n",
      "BaggingClassifier                  0.65               0.66     0.66      0.65   \n",
      "PassiveAggressiveClassifier        0.64               0.66      NaN      0.65   \n",
      "LinearSVC                          0.65               0.64     0.64      0.65   \n",
      "DecisionTreeClassifier             0.65               0.64     0.64      0.65   \n",
      "NuSVC                              0.64               0.64     0.64      0.64   \n",
      "ExtraTreesClassifier               0.64               0.63     0.63      0.65   \n",
      "QuadraticDiscriminantAnalysis      0.62               0.63     0.63      0.62   \n",
      "LinearDiscriminantAnalysis         0.65               0.63      NaN      0.65   \n",
      "CalibratedClassifierCV             0.64               0.63     0.63      0.64   \n",
      "RidgeClassifier                    0.64               0.63      NaN      0.64   \n",
      "RidgeClassifierCV                  0.64               0.63      NaN      0.64   \n",
      "LogisticRegression                 0.64               0.63     0.63      0.64   \n",
      "Perceptron                         0.64               0.62      NaN      0.64   \n",
      "LabelSpreading                     0.63               0.62     0.62      0.63   \n",
      "SGDClassifier                      0.65               0.62      NaN      0.64   \n",
      "LabelPropagation                   0.62               0.62     0.62      0.63   \n",
      "KNeighborsClassifier               0.62               0.61     0.61      0.62   \n",
      "ExtraTreeClassifier                0.62               0.61     0.61      0.63   \n",
      "DummyClassifier                    0.60               0.50      NaN      0.46   \n",
      "\n",
      "                               Time Taken  \n",
      "Model                                      \n",
      "SVC                                  4.94  \n",
      "GaussianNB                           0.06  \n",
      "NearestCentroid                      0.16  \n",
      "AdaBoostClassifier                   0.96  \n",
      "BernoulliNB                          0.09  \n",
      "LGBMClassifier                       0.19  \n",
      "RandomForestClassifier               1.78  \n",
      "BaggingClassifier                    0.62  \n",
      "PassiveAggressiveClassifier          0.08  \n",
      "LinearSVC                            0.22  \n",
      "DecisionTreeClassifier               0.15  \n",
      "NuSVC                                7.23  \n",
      "ExtraTreesClassifier                 1.78  \n",
      "QuadraticDiscriminantAnalysis        0.11  \n",
      "LinearDiscriminantAnalysis           0.15  \n",
      "CalibratedClassifierCV               0.24  \n",
      "RidgeClassifier                      0.09  \n",
      "RidgeClassifierCV                    0.10  \n",
      "LogisticRegression                   0.10  \n",
      "Perceptron                           0.08  \n",
      "LabelSpreading                       5.96  \n",
      "SGDClassifier                        0.16  \n",
      "LabelPropagation                     3.75  \n",
      "KNeighborsClassifier                 0.81  \n",
      "ExtraTreeClassifier                  0.08  \n",
      "DummyClassifier                      0.06  \n"
     ]
    },
    {
     "name": "stderr",
     "output_type": "stream",
     "text": [
      "\n"
     ]
    }
   ],
   "source": [
    "# Instantiate LazyClassifier\n",
    "clf = LazyClassifier(predictions=True)\n",
    "models, predictions = clf.fit(X_train, X_test, y_train, y_test)\n",
    "\n",
    "# Display models and their performance\n",
    "print(models)"
   ]
  },
  {
   "cell_type": "markdown",
   "metadata": {},
   "source": [
    "## Pipeline - Pre-processor"
   ]
  },
  {
   "cell_type": "code",
   "execution_count": 46,
   "metadata": {},
   "outputs": [],
   "source": [
    "from sklearn.compose import ColumnTransformer\n",
    "from sklearn.pipeline import Pipeline\n",
    "from sklearn.impute import SimpleImputer\n",
    "from sklearn.preprocessing import StandardScaler, OneHotEncoder, OrdinalEncoder, RobustScaler\n",
    "from sklearn.model_selection import train_test_split\n",
    "from sklearn.ensemble import RandomForestClassifier\n",
    "from sklearn.metrics import accuracy_score\n",
    "\n",
    "from sklearn.datasets import load_iris\n",
    "from sklearn.model_selection import train_test_split\n",
    "from sklearn.pipeline import Pipeline\n",
    "from sklearn.preprocessing import StandardScaler, RobustScaler, OneHotEncoder, OrdinalEncoder\n",
    "from sklearn.compose import ColumnTransformer\n",
    "from sklearn.ensemble import RandomForestClassifier\n",
    "from sklearn.model_selection import GridSearchCV\n",
    "from sklearn.metrics import accuracy_score\n",
    "from sklearn.metrics import f1_score\n",
    "\n",
    "\n",
    "# Define your variables by their type\n",
    "numerical_cols = ['Cost_of_the_Product', 'Weight_in_gms']\n",
    "numerical_colswoutliers = ['Discount_offered']\n",
    "categorical_cols = ['Warehouse_block','Mode_of_Shipment','Gender']\n",
    "ordinal_cols = ['Product_importance', 'Customer_care_calls', 'Prior_purchases', 'Customer_rating']\n",
    "\n",
    "# Define the order for your ordinal data as required by OrdinalEncoder\n",
    "ordinal_categories = [['low', 'medium', 'high'], ['low', 'medium', 'high'], ['low', 'medium', 'high'], ['1','2','3','4','5']]\n",
    "\n",
    "# Define transformers for numerical, categorical, and ordinal features\n",
    "numerical_transformer = StandardScaler()\n",
    "numerical_transformerwoutliers = RobustScaler()\n",
    "categorical_transformer = OneHotEncoder(handle_unknown='ignore')\n",
    "ordinal_transformer = OrdinalEncoder(categories=ordinal_categories)\n",
    "\n",
    "# Define the preprocessor\n",
    "preprocessor = ColumnTransformer(\n",
    "    transformers=[\n",
    "        ('num', numerical_transformer, numerical_cols),\n",
    "        ('numout', numerical_transformerwoutliers, numerical_colswoutliers),\n",
    "        ('cat', categorical_transformer, categorical_cols),\n",
    "        ('ord', ordinal_transformer, ordinal_cols)\n",
    "    ]\n",
    ")"
   ]
  },
  {
   "cell_type": "markdown",
   "metadata": {},
   "source": [
    "## Random Forest"
   ]
  },
  {
   "cell_type": "markdown",
   "metadata": {},
   "source": [
    "Can encode y_train to predict and then inverse the predictions to check accuravy. But here we decided to go thru not encoding y_train because it just makes it more complex."
   ]
  },
  {
   "cell_type": "code",
   "execution_count": 29,
   "metadata": {},
   "outputs": [
    {
     "name": "stdout",
     "output_type": "stream",
     "text": [
      "Fitting 5 folds for each of 81 candidates, totalling 405 fits\n",
      "Best Parameters: {'classifier__max_depth': 10, 'classifier__min_samples_leaf': 4, 'classifier__min_samples_split': 10, 'classifier__n_estimators': 300}\n",
      "Best Score: 0.6805323918548762\n",
      "Train Accuracy: 0.7829298783952722\n",
      "Train F1 Score: 0.7830175620959738\n",
      "Test Accuracy: 0.6654545454545454\n",
      "F1 Score: 0.663915020553676\n"
     ]
    }
   ],
   "source": [
    "# Define the pipeline including the preprocessor and Random Forest classifier\n",
    "pipeline = Pipeline([\n",
    "    ('preprocessor', preprocessor),\n",
    "    ('classifier', RandomForestClassifier())\n",
    "])\n",
    "\n",
    "# Define parameters grid for GridSearchCV\n",
    "param_grid = {\n",
    "    'classifier__n_estimators': [100, 200, 300],  # Number of trees in the forest\n",
    "    'classifier__max_depth': [None, 10, 20],  # Maximum depth of the tree\n",
    "    'classifier__min_samples_split': [2, 5, 10],  # Minimum number of samples required to split an internal node\n",
    "    'classifier__min_samples_leaf': [1, 2, 4]  # Minimum number of samples required to be at a leaf node\n",
    "}\n",
    "\n",
    "# Perform grid search to find the best parameters\n",
    "grid_search = GridSearchCV(pipeline, param_grid, cv=5, verbose=1, n_jobs=-1)\n",
    "grid_search.fit(X_train, y_train)\n",
    "\n",
    "# Get the best parameters and score\n",
    "best_params = grid_search.best_params_\n",
    "best_score = grid_search.best_score_\n",
    "print(\"Best Parameters:\", best_params)\n",
    "print(\"Best Score:\", best_score)\n",
    "\n",
    "# Get the best model from grid search\n",
    "best_model = grid_search.best_estimator_\n",
    "\n",
    "# Evaluate the model on the train set\n",
    "y_predtrain = best_model.predict(X_train)\n",
    "\n",
    "trainaccuracy = accuracy_score(y_train, y_predtrain)\n",
    "print(\"Train Accuracy:\", trainaccuracy)\n",
    "\n",
    "trainf1 = f1_score(y_train, y_predtrain, average='weighted')\n",
    "print(\"Train F1 Score:\", trainf1)\n",
    "\n",
    "\n",
    "# Evaluate the model on the test set\n",
    "y_pred = best_model.predict(X_test)\n",
    "\n",
    "accuracy = accuracy_score(y_test, y_pred)\n",
    "print(\"Test Accuracy:\", accuracy)\n",
    "\n",
    "f1 = f1_score(y_test, y_pred, average='weighted')\n",
    "print(\"F1 Score:\", f1)\n"
   ]
  },
  {
   "cell_type": "markdown",
   "metadata": {},
   "source": [
    "## Gradient Boosting Model (Best Performance)"
   ]
  },
  {
   "cell_type": "code",
   "execution_count": 30,
   "metadata": {},
   "outputs": [],
   "source": [
    "from sklearn.ensemble import GradientBoostingClassifier\n",
    "\n",
    "# Define pipeline including preprocessor and Gradient Boosting model\n",
    "pipeline = Pipeline(steps=[\n",
    "    ('preprocessor', preprocessor),\n",
    "    ('model', GradientBoostingClassifier())\n",
    "])"
   ]
  },
  {
   "cell_type": "code",
   "execution_count": 32,
   "metadata": {},
   "outputs": [
    {
     "name": "stdout",
     "output_type": "stream",
     "text": [
      "Fitting 5 folds for each of 81 candidates, totalling 405 fits\n",
      "Best Parameters: {'classifier__max_depth': 3, 'classifier__min_samples_leaf': 4, 'classifier__min_samples_split': 2, 'classifier__n_estimators': 100}\n",
      "Best Score: 0.6807590831567524\n",
      "Train Accuracy: 0.7120127287191726\n",
      "Train F1 Score: 0.7096726330083719\n",
      "Test Accuracy: 0.6754545454545454\n",
      "F1 Score: 0.6732743360636009\n"
     ]
    }
   ],
   "source": [
    "# Create GradientBoostingClassifier instance\n",
    "gb_classifier = GradientBoostingClassifier()\n",
    "\n",
    "# Create pipeline with preprocessor and classifier\n",
    "pipeline = Pipeline(steps=[('preprocessor', preprocessor),\n",
    "                           ('classifier', gb_classifier)])\n",
    "\n",
    "# Define parameter grid for GradientBoostingClassifier\n",
    "param_grid = {\n",
    "    'classifier__n_estimators': [100, 200, 300],  # Number of boosting stages\n",
    "    'classifier__max_depth': [3, 5, 7],  # Maximum depth of the individual regression estimators\n",
    "    'classifier__min_samples_split': [2, 5, 10],  # Minimum number of samples required to split an internal node\n",
    "    'classifier__min_samples_leaf': [1, 2, 4]  # Minimum number of samples required to be at a leaf node\n",
    "}\n",
    "\n",
    "# Perform grid search to find the best parameters\n",
    "grid_search = GridSearchCV(pipeline, param_grid, cv=5, verbose=1, n_jobs=-1)\n",
    "grid_search.fit(X_train, y_train)\n",
    "\n",
    "# Get the best parameters and score\n",
    "best_params = grid_search.best_params_\n",
    "best_score = grid_search.best_score_\n",
    "print(\"Best Parameters:\", best_params)\n",
    "print(\"Best Score:\", best_score)\n",
    "\n",
    "# Use the best estimator to make predictions on test data\n",
    "best_estimator = grid_search.best_estimator_\n",
    "\n",
    "\n",
    "# Evaluate the model on the train set\n",
    "y_predtrain = best_estimator.predict(X_train)\n",
    "\n",
    "trainaccuracy = accuracy_score(y_train, y_predtrain)\n",
    "print(\"Train Accuracy:\", trainaccuracy)\n",
    "\n",
    "trainf1 = f1_score(y_train, y_predtrain, average='weighted')\n",
    "print(\"Train F1 Score:\", trainf1)\n",
    "\n",
    "\n",
    "# Evaluate the model on the test set\n",
    "y_pred = best_estimator.predict(X_test)\n",
    "\n",
    "accuracy = accuracy_score(y_test, y_pred)\n",
    "print(\"Test Accuracy:\", accuracy)\n",
    "\n",
    "f1 = f1_score(y_test, y_pred, average='weighted')\n",
    "print(\"F1 Score:\", f1)\n"
   ]
  },
  {
   "cell_type": "markdown",
   "metadata": {},
   "source": [
    "### GB Model with best parameters"
   ]
  },
  {
   "cell_type": "code",
   "execution_count": 47,
   "metadata": {},
   "outputs": [
    {
     "name": "stdout",
     "output_type": "stream",
     "text": [
      "F1 Score: 0.68\n",
      "Accuracy: 67.55%\n"
     ]
    }
   ],
   "source": [
    "from sklearn.ensemble import GradientBoostingClassifier\n",
    "\n",
    "# Extracting the best parameters from the grid search\n",
    "best_params = {\n",
    "    'max_depth': 3,\n",
    "    'min_samples_leaf': 4,\n",
    "    'min_samples_split': 2,\n",
    "    'n_estimators': 100\n",
    "}\n",
    "\n",
    "from sklearn.pipeline import Pipeline\n",
    "from sklearn.ensemble import GradientBoostingClassifier\n",
    "from sklearn.compose import ColumnTransformer\n",
    "\n",
    "# Assuming 'preprocessor' is your ColumnTransformer\n",
    "pipeline = Pipeline([\n",
    "    ('preprocessor', preprocessor),\n",
    "    ('classifier', GradientBoostingClassifier(**best_params))\n",
    "])\n",
    "\n",
    "# Fit the pipeline with the training data\n",
    "pipeline.fit(X_train, y_train)\n",
    "\n",
    "# Predict the labels on the validation/test dataset\n",
    "y_pred = pipeline.predict(X_test)\n",
    "\n",
    "# Calculate F1 score - using the 'average' parameter to handle multi-class settings if necessary\n",
    "f1 = f1_score(y_test, y_pred, average='macro')  # You can change 'macro' to 'binary' if it's a binary classification\n",
    "\n",
    "# Calculate accuracy\n",
    "accuracy = accuracy_score(y_test, y_pred)\n",
    "\n",
    "# Print the scores\n",
    "print(\"F1 Score: {:.2f}\".format(f1))\n",
    "print(\"Accuracy: {:.2f}%\".format(accuracy * 100))"
   ]
  },
  {
   "cell_type": "code",
   "execution_count": 40,
   "metadata": {},
   "outputs": [
    {
     "data": {
      "image/png": "[encoded data removed]",
      "text/plain": [
       "<Figure size 800x600 with 2 Axes>"
      ]
     },
     "metadata": {},
     "output_type": "display_data"
    }
   ],
   "source": [
    "import matplotlib.pyplot as plt\n",
    "import seaborn as sns\n",
    "from sklearn.metrics import confusion_matrix\n",
    "\n",
    "# Assuming model is your trained gradient boosting model\n",
    "# And X_test contains the features of your test set, and y_test contains the true labels\n",
    "# Make predictions on the test set\n",
    "y_pred = pipeline.predict(X_test)\n",
    "\n",
    "# Compute the confusion matrix\n",
    "cm = confusion_matrix(y_test, y_pred)\n",
    "\n",
    "# Plot the confusion matrix as a heatmap with yellow and orange colors\n",
    "plt.figure(figsize=(8, 6))\n",
    "sns.heatmap(cm, annot=True, cmap=sns.color_palette(\"YlOrBr\"), fmt='d', xticklabels=['Predicted 0', 'Predicted 1'], yticklabels=['Actual 0', 'Actual 1'], annot_kws={\"fontsize\": 14})\n",
    "plt.xlabel('Predicted labels')\n",
    "plt.ylabel('True labels')\n",
    "plt.title('Confusion Matrix')\n",
    "plt.show()"
   ]
  },
  {
   "cell_type": "markdown",
   "metadata": {},
   "source": [
    "### Feature Importance"
   ]
  },
  {
   "cell_type": "code",
   "execution_count": 41,
   "metadata": {},
   "outputs": [
    {
     "name": "stdout",
     "output_type": "stream",
     "text": [
      "Feature Importances:\n",
      "numout__Discount_offered: 0.7426791246705314\n",
      "num__Weight_in_gms: 0.14468748706238269\n",
      "ord__Prior_purchases: 0.04929404162568399\n",
      "num__Cost_of_the_Product: 0.043640445245437996\n",
      "ord__Customer_rating: 0.004459142903548102\n",
      "ord__Product_importance: 0.004412239714608492\n",
      "ord__Customer_care_calls: 0.003566661623005756\n",
      "cat__Warehouse_block_C: 0.0015857060613167174\n",
      "cat__Warehouse_block_D: 0.001146790889128228\n",
      "cat__Warehouse_block_F: 0.0011211964410568962\n",
      "cat__Mode_of_Shipment_Ship: 0.0008756190276387605\n",
      "cat__Warehouse_block_B: 0.0007974520348824341\n",
      "cat__Gender_F: 0.000666604886069499\n",
      "cat__Mode_of_Shipment_Road: 0.0006205061549940677\n",
      "cat__Warehouse_block_A: 0.0002562083078949732\n",
      "cat__Mode_of_Shipment_Flight: 0.00019077335181970126\n",
      "cat__Gender_M: 3.186366816168131e-16\n"
     ]
    }
   ],
   "source": [
    "# Extract feature importances from the classifier\n",
    "feature_importances = pipeline.named_steps['classifier'].feature_importances_\n",
    "\n",
    "# Attempt to get feature names directly from the preprocessor\n",
    "try:\n",
    "    feature_names = preprocessor.get_feature_names_out()\n",
    "except AttributeError:  # Fallback if 'get_feature_names_out' is not available\n",
    "    # You might need to construct feature names manually depending on your preprocessing\n",
    "    feature_names = [f\"feature_{i}\" for i in range(len(feature_importances))]\n",
    "\n",
    "# Combine feature names and their importances\n",
    "features_and_importances = sorted(zip(feature_names, feature_importances), key=lambda x: x[1], reverse=True)\n",
    "\n",
    "# Display the feature importances\n",
    "print(\"Feature Importances:\")\n",
    "for feature, importance in features_and_importances:\n",
    "    print(f\"{feature}: {importance}\")"
   ]
  },
  {
   "cell_type": "markdown",
   "metadata": {},
   "source": [
    "### Permutation Importance"
   ]
  },
  {
   "cell_type": "code",
   "execution_count": 49,
   "metadata": {},
   "outputs": [
    {
     "data": {
      "text/plain": [
       "Text(0.5, 0, 'Permutation Importance')"
      ]
     },
     "execution_count": 49,
     "metadata": {},
     "output_type": "execute_result"
    },
    {
     "data": {
      "image/png": "[encoded data removed]",
      "text/plain": [
       "<Figure size 640x480 with 1 Axes>"
      ]
     },
     "metadata": {},
     "output_type": "display_data"
    }
   ],
   "source": [
    "from sklearn.inspection import permutation_importance\n",
    "import matplotlib.pyplot as plt\n",
    "%matplotlib inline\n",
    "\n",
    "perm_importance = permutation_importance(pipeline, X_test, y_test)\n",
    "\n",
    "feature_names = X_train.columns\n",
    "features = np.array(feature_names)\n",
    "\n",
    "sorted_idx = perm_importance.importances_mean.argsort()\n",
    "plt.barh(features[sorted_idx], perm_importance.importances_mean[sorted_idx])\n",
    "plt.xlabel(\"Permutation Importance\")"
   ]
  },
  {
   "cell_type": "markdown",
   "metadata": {},
   "source": [
    "### Fitting Model with Reduced Variables"
   ]
  },
  {
   "cell_type": "code",
   "execution_count": 58,
   "metadata": {},
   "outputs": [],
   "source": [
    "# Define your variables by their type\n",
    "numerical_cols = ['Cost_of_the_Product', 'Weight_in_gms']\n",
    "numerical_colswoutliers = ['Discount_offered'] #Removeed \n",
    "#Removed categorical_cols = ['Warehouse_block','Mode_of_Shipment','Gender']\n",
    "ordinal_cols = ['Prior_purchases', 'Product_importance'] #Removeed 'Customer_care_calls','Customer_rating',\n",
    "\n",
    "# Define the order for your ordinal data as required by OrdinalEncoder\n",
    "ordinal_categories = [['low', 'medium', 'high'], ['low', 'medium', 'high']] #['1','2','3','4','5'], \n",
    "\n",
    "# Define transformers for numerical, categorical, and ordinal features\n",
    "numerical_transformer = StandardScaler()\n",
    "numerical_transformerwoutliers = RobustScaler()\n",
    "categorical_transformer = OneHotEncoder(handle_unknown='ignore')\n",
    "ordinal_transformer = OrdinalEncoder(categories=ordinal_categories)\n",
    "\n",
    "# Define the preprocessor\n",
    "preprocessor = ColumnTransformer(\n",
    "    transformers=[\n",
    "        ('num', numerical_transformer, numerical_cols),\n",
    "        ('numout', numerical_transformerwoutliers, numerical_colswoutliers),\n",
    "        ('cat', categorical_transformer, categorical_cols),\n",
    "        ('ord', ordinal_transformer, ordinal_cols)\n",
    "    ]\n",
    ")"
   ]
  },
  {
   "cell_type": "code",
   "execution_count": 59,
   "metadata": {},
   "outputs": [
    {
     "name": "stdout",
     "output_type": "stream",
     "text": [
      "Fitting 5 folds for each of 81 candidates, totalling 405 fits\n",
      "Best Parameters: {'classifier__max_depth': 3, 'classifier__min_samples_leaf': 2, 'classifier__min_samples_split': 10, 'classifier__n_estimators': 100}\n",
      "Best Score: 0.6805322626492325\n",
      "Train Accuracy: 0.7137174678940789\n",
      "Train F1 Score: 0.7112796775654281\n",
      "Test Accuracy: 0.6790909090909091\n",
      "F1 Score: 0.6774670256254216\n"
     ]
    }
   ],
   "source": [
    "from sklearn.ensemble import GradientBoostingClassifier\n",
    "\n",
    "# Define pipeline including preprocessor and Gradient Boosting model\n",
    "pipeline = Pipeline(steps=[\n",
    "    ('preprocessor', preprocessor),\n",
    "    ('model', GradientBoostingClassifier())\n",
    "])\n",
    "\n",
    "# Create GradientBoostingClassifier instance\n",
    "gb_classifier = GradientBoostingClassifier()\n",
    "\n",
    "# Create pipeline with preprocessor and classifier\n",
    "pipeline = Pipeline(steps=[('preprocessor', preprocessor),\n",
    "                           ('classifier', gb_classifier)])\n",
    "\n",
    "# Define parameter grid for GradientBoostingClassifier\n",
    "param_grid = {\n",
    "    'classifier__n_estimators': [100, 200, 300],  # Number of boosting stages\n",
    "    'classifier__max_depth': [3, 5, 7],  # Maximum depth of the individual regression estimators\n",
    "    'classifier__min_samples_split': [2, 5, 10],  # Minimum number of samples required to split an internal node\n",
    "    'classifier__min_samples_leaf': [1, 2, 4]  # Minimum number of samples required to be at a leaf node\n",
    "}\n",
    "\n",
    "# Perform grid search to find the best parameters\n",
    "grid_search = GridSearchCV(pipeline, param_grid, cv=5, verbose=1, n_jobs=-1)\n",
    "grid_search.fit(X_train, y_train)\n",
    "\n",
    "# Get the best parameters and score\n",
    "best_params = grid_search.best_params_\n",
    "best_score = grid_search.best_score_\n",
    "print(\"Best Parameters:\", best_params)\n",
    "print(\"Best Score:\", best_score)\n",
    "\n",
    "# Use the best estimator to make predictions on test data\n",
    "best_estimator = grid_search.best_estimator_\n",
    "\n",
    "\n",
    "# Evaluate the model on the train set\n",
    "y_predtrain = best_estimator.predict(X_train)\n",
    "\n",
    "trainaccuracy = accuracy_score(y_train, y_predtrain)\n",
    "print(\"Train Accuracy:\", trainaccuracy)\n",
    "\n",
    "trainf1 = f1_score(y_train, y_predtrain, average='weighted')\n",
    "print(\"Train F1 Score:\", trainf1)\n",
    "\n",
    "\n",
    "# Evaluate the model on the test set\n",
    "y_pred = best_estimator.predict(X_test)\n",
    "\n",
    "accuracy = accuracy_score(y_test, y_pred)\n",
    "print(\"Test Accuracy:\", accuracy)\n",
    "\n",
    "f1 = f1_score(y_test, y_pred, average='weighted')\n",
    "print(\"F1 Score:\", f1)"
   ]
  },
  {
   "cell_type": "markdown",
   "metadata": {},
   "source": [
    "Fitting 5 folds for each of 81 candidates, totalling 405 fits\n",
    "Best Parameters: {'classifier__max_depth': 3, 'classifier__min_samples_leaf': 2, 'classifier__min_samples_split': 10, 'classifier__n_estimators': 100}\n",
    "Best Score: 0.6805322626492325\n",
    "Train Accuracy: 0.7137174678940789\n",
    "Train F1 Score: 0.7112796775654281\n",
    "Test Accuracy: 0.6790909090909091\n",
    "F1 Score: 0.6774670256254216"
   ]
  },
  {
   "cell_type": "markdown",
   "metadata": {},
   "source": [
    "## XG Boost"
   ]
  },
  {
   "cell_type": "code",
   "execution_count": null,
   "metadata": {},
   "outputs": [
    {
     "name": "stdout",
     "output_type": "stream",
     "text": [
      "Requirement already satisfied: xgboost in c:\\users\\hiroo\\anaconda3new\\lib\\site-packages (2.0.3)\n",
      "Requirement already satisfied: numpy in c:\\users\\hiroo\\anaconda3new\\lib\\site-packages (from xgboost) (1.24.3)\n",
      "Requirement already satisfied: scipy in c:\\users\\hiroo\\anaconda3new\\lib\\site-packages (from xgboost) (1.11.1)\n",
      "Note: you may need to restart the kernel to use updated packages.\n"
     ]
    }
   ],
   "source": [
    "pip install xgboost"
   ]
  },
  {
   "cell_type": "code",
   "execution_count": null,
   "metadata": {},
   "outputs": [
    {
     "name": "stdout",
     "output_type": "stream",
     "text": [
      "Best Parameters: {'classifier__gamma': 0.5, 'classifier__learning_rate': 0.25, 'classifier__max_depth': 20, 'classifier__min_child_weight': 15, 'classifier__n_estimators': 100, 'classifier__reg_alpha': 5, 'classifier__reg_lambda': 10}\n",
      "Best Score: 0.6829191229703175\n",
      "Train Accuracy: 0.719399931810433\n",
      "Train F1 Score: 0.7184413878619894\n",
      "Test Accuracy: 0.6645454545454546\n",
      "F1 Score: 0.6642183102956672\n"
     ]
    }
   ],
   "source": [
    "from xgboost import XGBClassifier\n",
    "\n",
    "# Create a Random Forest classifier\n",
    "xgb_model = XGBClassifier(enable_categorical=True)\n",
    "\n",
    "# Create the pipeline\n",
    "pipeline = Pipeline(steps=[('preprocessor', preprocessor),\n",
    "                             ('classifier', xgb_model)])\n",
    "\n",
    "param_grid = {\n",
    "    'classifier__n_estimators': [100, 150],\n",
    "    'classifier__max_depth': [10, 20],\n",
    "    'classifier__min_child_weight': [10, 15],\n",
    "    'classifier__gamma': [0.3, 0.4, 0.5],\n",
    "    'classifier__learning_rate': [0.25, 0.1],\n",
    "    'classifier__reg_lambda': [5, 10],\n",
    "    'classifier__reg_alpha': [1, 5],\n",
    "}\n",
    "\n",
    "# Perform grid search to find the best parameters\n",
    "grid_search = GridSearchCV(pipeline, param_grid, cv=10, scoring='accuracy')\n",
    "grid_search.fit(X_train, y_train_encoded)\n",
    "\n",
    "# Get the best parameters and score\n",
    "best_params = grid_search.best_params_\n",
    "best_score = grid_search.best_score_\n",
    "print(\"Best Parameters:\", best_params)\n",
    "print(\"Best Score:\", best_score)\n",
    "\n",
    "# Use the best estimator to make predictions on test data\n",
    "best_estimator = grid_search.best_estimator_\n",
    "\n",
    "# Evaluate the model on the train set\n",
    "y_predtrainnum = best_estimator.predict(X_train)\n",
    "\n",
    "# Convert y_pred to strings\n",
    "y_predtrain = y_predtrainnum.astype(str)\n",
    "\n",
    "trainaccuracy = accuracy_score(y_train, y_predtrain)\n",
    "print(\"Train Accuracy:\", trainaccuracy)\n",
    "\n",
    "trainf1 = f1_score(y_train, y_predtrain, average='weighted')\n",
    "print(\"Train F1 Score:\", trainf1)\n",
    "\n",
    "\n",
    "# Evaluate the model on the test set\n",
    "y_prednum = best_estimator.predict(X_test)\n",
    "\n",
    "# Convert y_pred to strings\n",
    "y_pred = y_prednum.astype(str)\n",
    "\n",
    "accuracy = accuracy_score(y_test, y_pred)\n",
    "print(\"Test Accuracy:\", accuracy)\n",
    "\n",
    "f1 = f1_score(y_test, y_pred, average='weighted')\n",
    "print(\"F1 Score:\", f1)"
   ]
  },
  {
   "cell_type": "markdown",
   "metadata": {},
   "source": [
    "## SVC"
   ]
  },
  {
   "cell_type": "code",
   "execution_count": null,
   "metadata": {},
   "outputs": [
    {
     "name": "stdout",
     "output_type": "stream",
     "text": [
      "Fitting 5 folds for each of 18 candidates, totalling 90 fits\n",
      "Best Parameters: {'classifier__C': 1, 'classifier__gamma': 'scale', 'classifier__kernel': 'rbf'}\n",
      "Best Score: 0.6706453175874721\n",
      "Train Accuracy: 0.6825775656324582\n",
      "Train F1 Score: 0.6742880868245849\n",
      "Test Accuracy: 0.6631818181818182\n",
      "F1 Score: 0.6550274679498981\n"
     ]
    }
   ],
   "source": [
    "from sklearn.svm import SVC\n",
    "from sklearn.model_selection import GridSearchCV\n",
    "from sklearn.metrics import f1_score\n",
    "\n",
    "# Define the SVC model\n",
    "svc_model = SVC()\n",
    "\n",
    "# Create pipeline with preprocessor and SVC classifier\n",
    "pipeline = Pipeline(steps=[('preprocessor', preprocessor),\n",
    "                           ('classifier', svc_model)])\n",
    "\n",
    "# Define parameter grid for SVC\n",
    "param_grid = {\n",
    "    'classifier__C': [0.1, 1, 10],  # Regularization parameter\n",
    "    'classifier__kernel': ['linear', 'poly', 'rbf'],  # Kernel type\n",
    "    'classifier__gamma': ['scale', 'auto']  # Kernel coefficient for 'rbf' and 'poly'\n",
    "}\n",
    "\n",
    "# Perform grid search to find the best parameters\n",
    "grid_search = GridSearchCV(pipeline, param_grid, cv=5, verbose=1, n_jobs=-1)\n",
    "grid_search.fit(X_train, y_train)\n",
    "\n",
    "# Get the best parameters and score\n",
    "best_params = grid_search.best_params_\n",
    "best_score = grid_search.best_score_\n",
    "print(\"Best Parameters:\", best_params)\n",
    "print(\"Best Score:\", best_score)\n",
    "\n",
    "# Use the best estimator to make predictions on test data\n",
    "best_estimator = grid_search.best_estimator_\n",
    "\n",
    "# Evaluate the model on the train set\n",
    "y_predtrain = best_estimator.predict(X_train)\n",
    "\n",
    "trainaccuracy = accuracy_score(y_train, y_predtrain)\n",
    "print(\"Train Accuracy:\", trainaccuracy)\n",
    "\n",
    "trainf1 = f1_score(y_train, y_predtrain, average='weighted')\n",
    "print(\"Train F1 Score:\", trainf1)\n",
    "\n",
    "\n",
    "# Evaluate the model on the test set\n",
    "y_pred = best_estimator.predict(X_test)\n",
    "\n",
    "accuracy = accuracy_score(y_test, y_pred)\n",
    "print(\"Test Accuracy:\", accuracy)\n",
    "\n",
    "f1 = f1_score(y_test, y_pred, average='weighted')\n",
    "print(\"F1 Score:\", f1)"
   ]
  },
  {
   "cell_type": "markdown",
   "metadata": {},
   "source": [
    "## Clustering (K-Prototypes)"
   ]
  },
  {
   "cell_type": "code",
   "execution_count": null,
   "metadata": {},
   "outputs": [],
   "source": [
    "from kmodes.kprototypes import KPrototypes\n",
    "import pandas as pd\n",
    "import numpy as np\n",
    "import matplotlib.pyplot as plt\n",
    "from sklearn.metrics import silhouette_score\n",
    "\n",
    "# Define your variables by their type\n",
    "numerical_cols = ['Cost_of_the_Product', 'Weight_in_gms', 'Discount_offered']\n",
    "categorical_cols = ['Warehouse_block', 'Mode_of_Shipment', 'Gender']\n",
    "ordinal_cols = ['Product_importance', 'Customer_care_calls', 'Prior_purchases', 'Customer_rating','Reached.on.Time_Y.N']\n",
    "\n",
    "# Define the order for your ordinal data as required by OrdinalEncoder\n",
    "ordinal_categories = [['low', 'medium', 'high'], ['low', 'medium', 'high'], ['low', 'medium', 'high'], ['1', '2', '3', '4', '5'], ['0', '1']]\n",
    "\n",
    "# Preprocess categorical columns\n",
    "categorical_data = pd.get_dummies(df[categorical_cols], drop_first=True)\n",
    "\n",
    "# Preprocess ordinal columns\n",
    "ordinal_data = df[ordinal_cols].copy()\n",
    "ordinal_data['Product_importance'] = ordinal_data['Product_importance'].map({'low': 0, 'medium': 1, 'high': 2})\n",
    "ordinal_data['Customer_care_calls'] = ordinal_data['Customer_care_calls'].map({'low': 0, 'medium': 1, 'high': 2})\n",
    "ordinal_data['Prior_purchases'] = ordinal_data['Prior_purchases'].map({'low': 0, 'medium': 1, 'high': 2})\n",
    "ordinal_data['Customer_rating'] = ordinal_data['Customer_rating'].astype(int) - 1  # To match 0-indexed categories\n",
    "ordinal_data['Reached.on.Time_Y.N'] = ordinal_data['Reached.on.Time_Y.N'].astype(int)\n",
    "\n",
    "# Concatenate numerical, categorical, and ordinal data\n",
    "processed_data = pd.concat([df[numerical_cols], categorical_data, ordinal_data], axis=1)\n"
   ]
  },
  {
   "cell_type": "code",
   "execution_count": null,
   "metadata": {},
   "outputs": [
    {
     "data": {
      "image/png": "[encoded data removed]",
      "text/plain": [
       "<Figure size 640x480 with 1 Axes>"
      ]
     },
     "metadata": {},
     "output_type": "display_data"
    }
   ],
   "source": [
    "######### Dont Do Run This Code Again (Because takes 30 min)\n",
    "######### Dont Do Run This Code Again (Because takes 30 min)\n",
    "######### Dont Do Run This Code Again (Because takes 30 min)\n",
    "######### Dont Do Run This Code Again (Because takes 30 min)\n",
    "######### Dont Do Run This Code Again (Because takes 30 min)\n",
    "######### Dont Do Run This Code Again (Because takes 30 min)\n",
    "\n",
    "# Assuming 'processed_data' is the DataFrame prepared by your existing code\n",
    "range_n_clusters = range(2, 10)  # Adjust this range based on your specific needs\n",
    "\n",
    "# Compute costs for elbow method\n",
    "costs = []\n",
    "\n",
    "for n_clusters in range_n_clusters:\n",
    "    kproto = KPrototypes(n_clusters=n_clusters, init='Huang', n_init=10, verbose=0, random_state=42)\n",
    "    kproto.fit(processed_data, categorical=[i for i in range(len(numerical_cols), processed_data.shape[1])])\n",
    "    costs.append(kproto.cost_)\n",
    "\n",
    "# Plot elbow method\n",
    "plt.plot(range_n_clusters, costs, marker='o')\n",
    "plt.xlabel('Number of clusters')\n",
    "plt.ylabel('Cost')\n",
    "plt.title('Elbow Method for Optimal Number of Clusters')\n",
    "plt.show()"
   ]
  },
  {
   "cell_type": "code",
   "execution_count": null,
   "metadata": {},
   "outputs": [
    {
     "name": "stdout",
     "output_type": "stream",
     "text": [
      "For n_clusters = 2, the silhouette score is 0.7334037810827554.\n",
      "For n_clusters = 3, the silhouette score is 0.6321048991583545.\n",
      "For n_clusters = 4, the silhouette score is 0.6200479463614762.\n",
      "For n_clusters = 5, the silhouette score is 0.5839604342033718.\n",
      "For n_clusters = 6, the silhouette score is 0.5467085421147574.\n",
      "For n_clusters = 7, the silhouette score is 0.5481150060894898.\n",
      "For n_clusters = 8, the silhouette score is 0.5403280355774703.\n",
      "For n_clusters = 9, the silhouette score is 0.5174518688598079.\n"
     ]
    },
    {
     "data": {
      "image/png": "[encoded data removed]",
      "text/plain": [
       "<Figure size 640x480 with 1 Axes>"
      ]
     },
     "metadata": {},
     "output_type": "display_data"
    },
    {
     "name": "stdout",
     "output_type": "stream",
     "text": [
      "Best number of clusters by silhouette score is: 2\n"
     ]
    }
   ],
   "source": [
    "######### Dont Do Run This Code Again (Because takes 30 min)\n",
    "######### Dont Do Run This Code Again (Because takes 30 min)\n",
    "######### Dont Do Run This Code Again (Because takes 30 min)\n",
    "######### Dont Do Run This Code Again (Because takes 30 min)\n",
    "######### Dont Do Run This Code Again (Because takes 30 min)\n",
    "######### Dont Do Run This Code Again (Because takes 30 min)\n",
    "\n",
    "from sklearn.metrics import silhouette_samples\n",
    "import matplotlib.cm as cm\n",
    "\n",
    "# Assuming 'processed_data' is the DataFrame prepared by your existing code\n",
    "range_n_clusters = range(2, 10)  # Adjust this range based on your specific needs\n",
    "\n",
    "# Compute silhouette scores for a range of cluster numbers\n",
    "silhouette_scores = []\n",
    "for n_clusters in range_n_clusters:\n",
    "    kproto = KPrototypes(n_clusters=n_clusters, init='Huang', n_init=10, random_state=42)\n",
    "    cluster_labels = kproto.fit_predict(processed_data, categorical=[i for i in range(len(numerical_cols), processed_data.shape[1])])\n",
    "    silhouette_avg = silhouette_score(processed_data, cluster_labels)\n",
    "    silhouette_scores.append(silhouette_avg)\n",
    "    print(f\"For n_clusters = {n_clusters}, the silhouette score is {silhouette_avg}.\")\n",
    "\n",
    "# Plot silhouette scores\n",
    "plt.figure()\n",
    "plt.plot(range_n_clusters, silhouette_scores, marker='o')\n",
    "plt.xlabel('Number of Clusters')\n",
    "plt.ylabel('Silhouette Score')\n",
    "plt.title('Silhouette Scores for Various Numbers of Clusters')\n",
    "plt.show()\n",
    "\n",
    "# Determine the best number of clusters\n",
    "best_n_clusters = range_n_clusters[np.argmax(silhouette_scores)]\n",
    "print(f\"Best number of clusters by silhouette score is: {best_n_clusters}\")\n",
    "\n"
   ]
  },
  {
   "cell_type": "code",
   "execution_count": null,
   "metadata": {},
   "outputs": [
    {
     "data": {
      "image/png": "[encoded data removed]",
      "text/plain": [
       "<Figure size 1800x700 with 1 Axes>"
      ]
     },
     "metadata": {},
     "output_type": "display_data"
    }
   ],
   "source": [
    "best_n_clusters=2\n",
    "\n",
    "# Re-run KPrototypes with the best number of clusters and plot silhouette diagram\n",
    "kproto = KPrototypes(n_clusters=best_n_clusters, init='Huang', n_init=10, random_state=42)\n",
    "cluster_labels = kproto.fit_predict(processed_data, categorical=[i for i in range(len(numerical_cols), processed_data.shape[1])])\n",
    "\n",
    "# Create a silhouette plot\n",
    "fig, ax1 = plt.subplots(1, 1)\n",
    "fig.set_size_inches(18, 7)\n",
    "\n",
    "# The 1st subplot is the silhouette plot\n",
    "ax1.set_xlim([-0.1, 1])\n",
    "ax1.set_ylim([0, len(processed_data) + (best_n_clusters + 1) * 10])\n",
    "\n",
    "silhouette_vals = silhouette_samples(processed_data, cluster_labels)\n",
    "y_lower = 10\n",
    "for i in range(best_n_clusters):\n",
    "    ith_cluster_silhouette_values = silhouette_vals[cluster_labels == i]\n",
    "    ith_cluster_silhouette_values.sort()\n",
    "\n",
    "    size_cluster_i = ith_cluster_silhouette_values.shape[0]\n",
    "    y_upper = y_lower + size_cluster_i\n",
    "\n",
    "    color = cm.nipy_spectral(float(i) / best_n_clusters)\n",
    "    ax1.fill_betweenx(np.arange(y_lower, y_upper), 0, ith_cluster_silhouette_values,\n",
    "                      facecolor=color, edgecolor=color, alpha=0.7)\n",
    "\n",
    "    y_lower = y_upper + 10  # 10 for the 0 samples\n",
    "\n",
    "ax1.set_title(\"The silhouette plot for 2 clusters.\")\n",
    "ax1.set_xlabel(\"The silhouette coefficient values\")\n",
    "ax1.set_ylabel(\"Cluster label\")\n",
    "\n",
    "# The vertical line for average silhouette score of all the values\n",
    "ax1.axvline(x=silhouette_avg, color=\"red\", linestyle=\"--\")\n",
    "ax1.set_yticks([])  # Clear the yaxis labels / ticks\n",
    "ax1.set_xticks([-0.1, 0, 0.2, 0.4, 0.6, 0.8, 1])\n",
    "\n",
    "plt.show()"
   ]
  },
  {
   "cell_type": "code",
   "execution_count": null,
   "metadata": {},
   "outputs": [],
   "source": [
    "# Assuming 'kproto' is your fitted KPrototypes model\n",
    "cluster_labels = kproto.predict(processed_data, categorical=[i for i in range(len(numerical_cols), processed_data.shape[1])])\n",
    "processed_data['Cluster'] = cluster_labels"
   ]
  },
  {
   "cell_type": "code",
   "execution_count": null,
   "metadata": {},
   "outputs": [
    {
     "data": {
      "text/html": [
       "<div>\n",
       "<style scoped>\n",
       "    .dataframe tbody tr th:only-of-type {\n",
       "        vertical-align: middle;\n",
       "    }\n",
       "\n",
       "    .dataframe tbody tr th {\n",
       "        vertical-align: top;\n",
       "    }\n",
       "\n",
       "    .dataframe thead th {\n",
       "        text-align: right;\n",
       "    }\n",
       "</style>\n",
       "<table border=\"1\" class=\"dataframe\">\n",
       "  <thead>\n",
       "    <tr style=\"text-align: right;\">\n",
       "      <th></th>\n",
       "      <th>Cost_of_the_Product</th>\n",
       "      <th>Weight_in_gms</th>\n",
       "      <th>Discount_offered</th>\n",
       "      <th>Warehouse_block_B</th>\n",
       "      <th>Warehouse_block_C</th>\n",
       "      <th>Warehouse_block_D</th>\n",
       "      <th>Warehouse_block_F</th>\n",
       "      <th>Mode_of_Shipment_Road</th>\n",
       "      <th>Mode_of_Shipment_Ship</th>\n",
       "      <th>Gender_M</th>\n",
       "      <th>Product_importance</th>\n",
       "      <th>Customer_care_calls</th>\n",
       "      <th>Prior_purchases</th>\n",
       "      <th>Customer_rating</th>\n",
       "      <th>Reached.on.Time_Y.N</th>\n",
       "      <th>Cluster</th>\n",
       "    </tr>\n",
       "  </thead>\n",
       "  <tbody>\n",
       "    <tr>\n",
       "      <th>0</th>\n",
       "      <td>177</td>\n",
       "      <td>1233</td>\n",
       "      <td>44</td>\n",
       "      <td>False</td>\n",
       "      <td>False</td>\n",
       "      <td>True</td>\n",
       "      <td>False</td>\n",
       "      <td>False</td>\n",
       "      <td>False</td>\n",
       "      <td>False</td>\n",
       "      <td>0</td>\n",
       "      <td>1</td>\n",
       "      <td>1</td>\n",
       "      <td>1</td>\n",
       "      <td>1</td>\n",
       "      <td>0</td>\n",
       "    </tr>\n",
       "    <tr>\n",
       "      <th>1</th>\n",
       "      <td>216</td>\n",
       "      <td>3088</td>\n",
       "      <td>59</td>\n",
       "      <td>False</td>\n",
       "      <td>False</td>\n",
       "      <td>False</td>\n",
       "      <td>True</td>\n",
       "      <td>False</td>\n",
       "      <td>False</td>\n",
       "      <td>True</td>\n",
       "      <td>0</td>\n",
       "      <td>1</td>\n",
       "      <td>0</td>\n",
       "      <td>4</td>\n",
       "      <td>1</td>\n",
       "      <td>0</td>\n",
       "    </tr>\n",
       "    <tr>\n",
       "      <th>2</th>\n",
       "      <td>183</td>\n",
       "      <td>3374</td>\n",
       "      <td>48</td>\n",
       "      <td>False</td>\n",
       "      <td>False</td>\n",
       "      <td>False</td>\n",
       "      <td>False</td>\n",
       "      <td>False</td>\n",
       "      <td>False</td>\n",
       "      <td>True</td>\n",
       "      <td>0</td>\n",
       "      <td>0</td>\n",
       "      <td>2</td>\n",
       "      <td>1</td>\n",
       "      <td>1</td>\n",
       "      <td>1</td>\n",
       "    </tr>\n",
       "    <tr>\n",
       "      <th>3</th>\n",
       "      <td>176</td>\n",
       "      <td>1177</td>\n",
       "      <td>10</td>\n",
       "      <td>True</td>\n",
       "      <td>False</td>\n",
       "      <td>False</td>\n",
       "      <td>False</td>\n",
       "      <td>False</td>\n",
       "      <td>False</td>\n",
       "      <td>True</td>\n",
       "      <td>1</td>\n",
       "      <td>0</td>\n",
       "      <td>2</td>\n",
       "      <td>2</td>\n",
       "      <td>1</td>\n",
       "      <td>0</td>\n",
       "    </tr>\n",
       "    <tr>\n",
       "      <th>4</th>\n",
       "      <td>184</td>\n",
       "      <td>2484</td>\n",
       "      <td>46</td>\n",
       "      <td>False</td>\n",
       "      <td>True</td>\n",
       "      <td>False</td>\n",
       "      <td>False</td>\n",
       "      <td>False</td>\n",
       "      <td>False</td>\n",
       "      <td>False</td>\n",
       "      <td>1</td>\n",
       "      <td>0</td>\n",
       "      <td>1</td>\n",
       "      <td>1</td>\n",
       "      <td>1</td>\n",
       "      <td>0</td>\n",
       "    </tr>\n",
       "  </tbody>\n",
       "</table>\n",
       "</div>"
      ],
      "text/plain": [
       "   Cost_of_the_Product  Weight_in_gms  Discount_offered  Warehouse_block_B  \\\n",
       "0                  177           1233                44              False   \n",
       "1                  216           3088                59              False   \n",
       "2                  183           3374                48              False   \n",
       "3                  176           1177                10               True   \n",
       "4                  184           2484                46              False   \n",
       "\n",
       "   Warehouse_block_C  Warehouse_block_D  Warehouse_block_F  \\\n",
       "0              False               True              False   \n",
       "1              False              False               True   \n",
       "2              False              False              False   \n",
       "3              False              False              False   \n",
       "4               True              False              False   \n",
       "\n",
       "   Mode_of_Shipment_Road  Mode_of_Shipment_Ship  Gender_M  Product_importance  \\\n",
       "0                  False                  False     False                   0   \n",
       "1                  False                  False      True                   0   \n",
       "2                  False                  False      True                   0   \n",
       "3                  False                  False      True                   1   \n",
       "4                  False                  False     False                   1   \n",
       "\n",
       "   Customer_care_calls  Prior_purchases  Customer_rating  Reached.on.Time_Y.N  \\\n",
       "0                    1                1                1                    1   \n",
       "1                    1                0                4                    1   \n",
       "2                    0                2                1                    1   \n",
       "3                    0                2                2                    1   \n",
       "4                    0                1                1                    1   \n",
       "\n",
       "   Cluster  \n",
       "0        0  \n",
       "1        0  \n",
       "2        1  \n",
       "3        0  \n",
       "4        0  "
      ]
     },
     "execution_count": 143,
     "metadata": {},
     "output_type": "execute_result"
    }
   ],
   "source": [
    "processed_data.head()"
   ]
  },
  {
   "cell_type": "markdown",
   "metadata": {},
   "source": [
    "### K-Prototype Clustering as a Model"
   ]
  },
  {
   "cell_type": "code",
   "execution_count": null,
   "metadata": {},
   "outputs": [],
   "source": [
    "processed_data.drop(columns=['Cluster'], inplace=True)"
   ]
  },
  {
   "cell_type": "code",
   "execution_count": null,
   "metadata": {},
   "outputs": [],
   "source": [
    "from sklearn.compose import ColumnTransformer\n",
    "from sklearn.preprocessing import OneHotEncoder\n",
    "from sklearn.pipeline import Pipeline\n",
    "from kmodes.kprototypes import KPrototypes\n",
    "\n",
    "# Define your variables by their type\n",
    "numerical_cols = ['Cost_of_the_Product', 'Weight_in_gms']\n",
    "numerical_colswoutliers = ['Discount_offered']\n",
    "categorical_cols = ['Warehouse_block','Mode_of_Shipment','Gender']\n",
    "ordinal_cols = ['Product_importance', 'Customer_care_calls', 'Prior_purchases', 'Customer_rating']\n",
    "\n",
    "# Define the order for your ordinal data as required by OrdinalEncoder\n",
    "ordinal_categories = [['low', 'medium', 'high'], ['low', 'medium', 'high'], ['low', 'medium', 'high'], ['1','2','3','4','5']]\n",
    "\n",
    "# Define transformers for numerical, categorical, and ordinal features\n",
    "numerical_transformer = StandardScaler()\n",
    "numerical_transformerwoutliers = RobustScaler()\n",
    "categorical_transformer = OneHotEncoder(handle_unknown='ignore')\n",
    "ordinal_transformer = OrdinalEncoder(categories=ordinal_categories)\n",
    "\n",
    "# Define the preprocessor\n",
    "preprocessor = ColumnTransformer(\n",
    "    transformers=[\n",
    "        ('num', numerical_transformer, numerical_cols),\n",
    "        ('numout', numerical_transformerwoutliers, numerical_colswoutliers),\n",
    "        ('cat', categorical_transformer, categorical_cols),\n",
    "        ('ord', ordinal_transformer, ordinal_cols)\n",
    "    ]\n",
    ")\n",
    "\n",
    "# Preprocess the data\n",
    "X_train_preprocessed = preprocessor.fit_transform(X_train)\n",
    "X_test_preprocessed = preprocessor.transform(X_test)"
   ]
  },
  {
   "cell_type": "code",
   "execution_count": null,
   "metadata": {},
   "outputs": [
    {
     "name": "stdout",
     "output_type": "stream",
     "text": [
      "Initialization method and algorithm are deterministic. Setting n_init to 1.\n",
      "Init: initializing centroids\n",
      "Init: initializing clusters\n",
      "Starting iterations...\n",
      "Run: 1, iteration: 1/100, moves: 720, ncost: 42427.84150436762\n",
      "Run: 1, iteration: 2/100, moves: 123, ncost: 42415.49333543497\n",
      "Run: 1, iteration: 3/100, moves: 232, ncost: 42288.82643319519\n",
      "Run: 1, iteration: 4/100, moves: 371, ncost: 42114.407188626756\n",
      "Run: 1, iteration: 5/100, moves: 2, ncost: 42114.39740557024\n",
      "Run: 1, iteration: 6/100, moves: 0, ncost: 42114.39740557024\n",
      "Init: initializing centroids\n",
      "Init: initializing clusters\n",
      "Starting iterations...\n",
      "Run: 2, iteration: 1/100, moves: 2254, ncost: 42167.20657372037\n",
      "Run: 2, iteration: 2/100, moves: 198, ncost: 42114.39740557025\n",
      "Run: 2, iteration: 3/100, moves: 0, ncost: 42114.39740557025\n",
      "Init: initializing centroids\n",
      "Init: initializing clusters\n",
      "Starting iterations...\n",
      "Run: 3, iteration: 1/100, moves: 1467, ncost: 42068.415478630166\n",
      "Run: 3, iteration: 2/100, moves: 0, ncost: 42068.415478630166\n",
      "Init: initializing centroids\n",
      "Init: initializing clusters\n",
      "Starting iterations...\n",
      "Run: 4, iteration: 1/100, moves: 715, ncost: 42228.229214745385\n",
      "Run: 4, iteration: 2/100, moves: 325, ncost: 42068.415478630166\n",
      "Run: 4, iteration: 3/100, moves: 0, ncost: 42068.415478630166\n",
      "Init: initializing centroids\n",
      "Init: initializing clusters\n",
      "Starting iterations...\n",
      "Run: 5, iteration: 1/100, moves: 1576, ncost: 42069.76304935623\n",
      "Run: 5, iteration: 2/100, moves: 20, ncost: 42068.415478630166\n",
      "Run: 5, iteration: 3/100, moves: 0, ncost: 42068.415478630166\n",
      "Init: initializing centroids\n",
      "Init: initializing clusters\n",
      "Starting iterations...\n",
      "Run: 6, iteration: 1/100, moves: 3044, ncost: 42119.092683783114\n",
      "Run: 6, iteration: 2/100, moves: 205, ncost: 42068.415478630166\n",
      "Run: 6, iteration: 3/100, moves: 0, ncost: 42068.415478630166\n",
      "Init: initializing centroids\n",
      "Init: initializing clusters\n",
      "Starting iterations...\n",
      "Run: 7, iteration: 1/100, moves: 2894, ncost: 42087.94180149698\n",
      "Run: 7, iteration: 2/100, moves: 136, ncost: 42068.415478630166\n",
      "Run: 7, iteration: 3/100, moves: 0, ncost: 42068.415478630166\n",
      "Init: initializing centroids\n",
      "Init: initializing clusters\n",
      "Starting iterations...\n",
      "Run: 8, iteration: 1/100, moves: 3391, ncost: 42073.725954810485\n",
      "Run: 8, iteration: 2/100, moves: 72, ncost: 42068.415478630166\n",
      "Run: 8, iteration: 3/100, moves: 0, ncost: 42068.415478630166\n",
      "Init: initializing centroids\n",
      "Init: initializing clusters\n",
      "Starting iterations...\n",
      "Run: 9, iteration: 1/100, moves: 1234, ncost: 42205.47665343781\n",
      "Run: 9, iteration: 2/100, moves: 247, ncost: 42114.39740557024\n",
      "Run: 9, iteration: 3/100, moves: 0, ncost: 42114.39740557024\n",
      "Init: initializing centroids\n",
      "Init: initializing clusters\n",
      "Starting iterations...\n",
      "Run: 10, iteration: 1/100, moves: 746, ncost: 42332.44440427165\n",
      "Run: 10, iteration: 2/100, moves: 424, ncost: 42114.47570727127\n",
      "Run: 10, iteration: 3/100, moves: 6, ncost: 42114.39740557024\n",
      "Run: 10, iteration: 4/100, moves: 0, ncost: 42114.39740557024\n",
      "Best run was number 3\n"
     ]
    }
   ],
   "source": [
    "# Initialize KPrototypes with desired number of clusters\n",
    "kproto = KPrototypes(n_clusters=2, init='Cao', verbose=2)\n",
    "\n",
    "# Fit KPrototypes to training data\n",
    "clusters = kproto.fit_predict(X_train_preprocessed, categorical=[0, 1, 2])  # Adjust categorical indices as needed"
   ]
  },
  {
   "cell_type": "code",
   "execution_count": null,
   "metadata": {},
   "outputs": [
    {
     "name": "stdout",
     "output_type": "stream",
     "text": [
      "Cluster Centers:\n",
      "[[ 0.16323446  0.16172303  0.16928018  0.17305876  0.33270357  0.15983374\n",
      "   0.15926696  0.6808993   0.51350841  0.48649159  0.60324957  0.97676176\n",
      "   1.1753259   2.98715284  0.72502022  0.96578318 -0.83333333]\n",
      " [ 0.1779806   0.17199087  0.15972618  0.16400456  0.32629778  0.1699943\n",
      "   0.16172276  0.66828294  0.5034227   0.4965773   0.60439247  0.98117513\n",
      "   1.15516258  0.49001711  0.97515806  0.93266146  0.33333333]]\n",
      "Cluster Labels:\n",
      "[0 0 0 ... 1 0 1]\n",
      "Number of points in each cluster:\n",
      "Cluster 0: 5293 points\n",
      "Cluster 1: 3506 points\n"
     ]
    }
   ],
   "source": [
    "import numpy as np\n",
    "\n",
    "# Print cluster centers\n",
    "print(\"Cluster Centers:\")\n",
    "print(kproto.cluster_centroids_)\n",
    "\n",
    "# Print cluster labels\n",
    "print(\"Cluster Labels:\")\n",
    "print(clusters)\n",
    "\n",
    "# Print number of points in each cluster\n",
    "unique_clusters, counts = np.unique(clusters, return_counts=True)\n",
    "print(\"Number of points in each cluster:\")\n",
    "for cluster, count in zip(unique_clusters, counts):\n",
    "    print(f\"Cluster {cluster}: {count} points\")"
   ]
  },
  {
   "cell_type": "code",
   "execution_count": null,
   "metadata": {},
   "outputs": [
    {
     "name": "stdout",
     "output_type": "stream",
     "text": [
      "Accuracy: 0.5946130242072963\n",
      "F1 Score: 0.44344884080287567\n"
     ]
    }
   ],
   "source": [
    "from sklearn.metrics import accuracy_score, f1_score\n",
    "\n",
    "# Suppose 'Reached.on.Time_Y.N' is the ground truth label\n",
    "# Assign labels to clusters based on the majority class\n",
    "cluster_labels = []\n",
    "for cluster_idx in unique_clusters:\n",
    "    cluster_indices = np.where(clusters == cluster_idx)[0]\n",
    "    cluster_actual_labels = y_train.iloc[cluster_indices]\n",
    "    majority_class = cluster_actual_labels.mode()[0]\n",
    "    cluster_labels.extend([majority_class] * len(cluster_indices))\n",
    "\n",
    "# Convert assigned cluster labels to array\n",
    "cluster_labels = np.array(cluster_labels)\n",
    "\n",
    "# Compute accuracy and F1 score\n",
    "accuracy = accuracy_score(y_train, cluster_labels)\n",
    "f1 = f1_score(y_train, cluster_labels, average=\"weighted\")\n",
    "\n",
    "print(\"Accuracy:\", accuracy)\n",
    "print(\"F1 Score:\", f1)"
   ]
  },
  {
   "cell_type": "markdown",
   "metadata": {},
   "source": [
    "## Factor Analysis"
   ]
  },
  {
   "cell_type": "code",
   "execution_count": null,
   "metadata": {},
   "outputs": [
    {
     "name": "stdout",
     "output_type": "stream",
     "text": [
      "      Cost_of_the_Product  Weight_in_gms  Discount_offered  Warehouse_block_A  \\\n",
      "0                   -1.15           1.13              0.50               0.00   \n",
      "1                    0.91           1.28             -0.17               1.00   \n",
      "2                    0.35          -1.50             -0.33               1.00   \n",
      "3                    1.31           0.25             -0.17               0.00   \n",
      "4                   -0.07          -0.89              2.00               0.00   \n",
      "...                   ...            ...               ...                ...   \n",
      "8794                -1.11           0.39              0.33               0.00   \n",
      "8795                -0.42           0.07              0.33               0.00   \n",
      "8796                -0.53           0.75              0.00               0.00   \n",
      "8797                 1.58           1.14             -0.33               0.00   \n",
      "8798                 0.91           1.21              0.50               0.00   \n",
      "\n",
      "      Warehouse_block_B  Warehouse_block_C  Warehouse_block_D  \\\n",
      "0                  0.00               0.00               0.00   \n",
      "1                  0.00               0.00               0.00   \n",
      "2                  0.00               0.00               0.00   \n",
      "3                  0.00               0.00               1.00   \n",
      "4                  1.00               0.00               0.00   \n",
      "...                 ...                ...                ...   \n",
      "8794               0.00               0.00               1.00   \n",
      "8795               0.00               0.00               1.00   \n",
      "8796               0.00               0.00               1.00   \n",
      "8797               0.00               1.00               0.00   \n",
      "8798               0.00               0.00               0.00   \n",
      "\n",
      "      Warehouse_block_F  Mode_of_Shipment_Flight  Mode_of_Shipment_Road  \\\n",
      "0                  1.00                     0.00                   1.00   \n",
      "1                  0.00                     0.00                   0.00   \n",
      "2                  0.00                     0.00                   0.00   \n",
      "3                  0.00                     0.00                   0.00   \n",
      "4                  0.00                     1.00                   0.00   \n",
      "...                 ...                      ...                    ...   \n",
      "8794               0.00                     0.00                   0.00   \n",
      "8795               0.00                     0.00                   0.00   \n",
      "8796               0.00                     0.00                   0.00   \n",
      "8797               0.00                     0.00                   0.00   \n",
      "8798               1.00                     0.00                   1.00   \n",
      "\n",
      "      Mode_of_Shipment_Ship  Gender_F  Gender_M  Product_importance  \\\n",
      "0                      0.00      1.00      0.00                0.00   \n",
      "1                      1.00      0.00      1.00                1.00   \n",
      "2                      1.00      0.00      1.00                1.00   \n",
      "3                      1.00      0.00      1.00                1.00   \n",
      "4                      0.00      0.00      1.00                1.00   \n",
      "...                     ...       ...       ...                 ...   \n",
      "8794                   1.00      1.00      0.00                1.00   \n",
      "8795                   1.00      0.00      1.00                1.00   \n",
      "8796                   1.00      1.00      0.00                1.00   \n",
      "8797                   1.00      1.00      0.00                1.00   \n",
      "8798                   0.00      1.00      0.00                1.00   \n",
      "\n",
      "      Customer_care_calls  Prior_purchases  Customer_rating  \n",
      "0                    1.00             2.00             3.00  \n",
      "1                    0.00             1.00             3.00  \n",
      "2                    2.00             2.00             4.00  \n",
      "3                    2.00             1.00             3.00  \n",
      "4                    0.00             2.00             2.00  \n",
      "...                   ...              ...              ...  \n",
      "8794                 2.00             2.00             3.00  \n",
      "8795                 2.00             0.00             3.00  \n",
      "8796                 2.00             1.00             0.00  \n",
      "8797                 0.00             2.00             4.00  \n",
      "8798                 0.00             0.00             1.00  \n",
      "\n",
      "[8799 rows x 17 columns]\n"
     ]
    }
   ],
   "source": [
    "# Assuming X_train is a pandas DataFrame containing your predictor variables\n",
    "\n",
    "# Fit the preprocessor to your training data\n",
    "try:\n",
    "    preprocessor.transform(X_train)\n",
    "except NotFittedError:\n",
    "    preprocessor.fit(X_train)\n",
    "\n",
    "# Now you can transform the data\n",
    "X_train_preprocessed = preprocessor.transform(X_train)\n",
    "\n",
    "# Extract column names after transformation\n",
    "numerical_cols_transformed = numerical_cols + numerical_colswoutliers\n",
    "categorical_cols_transformed = list(preprocessor.named_transformers_['cat'].get_feature_names_out(categorical_cols))\n",
    "ordinal_cols_transformed = ordinal_cols\n",
    "\n",
    "# Concatenate transformed data and convert it into a DataFrame\n",
    "X_train_preprocessed_df = pd.DataFrame(\n",
    "    X_train_preprocessed,\n",
    "    columns=numerical_cols_transformed + categorical_cols_transformed + ordinal_cols_transformed\n",
    ")\n",
    "\n",
    "# Display the preprocessed DataFrame\n",
    "print(X_train_preprocessed_df)"
   ]
  },
  {
   "cell_type": "code",
   "execution_count": null,
   "metadata": {},
   "outputs": [
    {
     "name": "stdout",
     "output_type": "stream",
     "text": [
      "Warehouse_block        object\n",
      "Mode_of_Shipment       object\n",
      "Customer_care_calls    object\n",
      "Customer_rating        object\n",
      "Cost_of_the_Product     int64\n",
      "Prior_purchases        object\n",
      "Product_importance     object\n",
      "Gender                 object\n",
      "Discount_offered        int64\n",
      "Weight_in_gms           int64\n",
      "dtype: object\n"
     ]
    }
   ],
   "source": [
    "print(X_train.dtypes)"
   ]
  },
  {
   "cell_type": "code",
   "execution_count": null,
   "metadata": {},
   "outputs": [],
   "source": [
    "# Convert quantitative variables to float data types\n",
    "X_train['Cost_of_the_Product'] = X_train['Cost_of_the_Product'].astype(float)\n",
    "X_train['Discount_offered'] = X_train['Discount_offered'].astype(float)\n",
    "X_train['Weight_in_gms'] = X_train['Weight_in_gms'].astype(float)"
   ]
  },
  {
   "cell_type": "code",
   "execution_count": null,
   "metadata": {},
   "outputs": [
    {
     "name": "stdout",
     "output_type": "stream",
     "text": [
      "Warehouse_block         object\n",
      "Mode_of_Shipment        object\n",
      "Customer_care_calls     object\n",
      "Customer_rating         object\n",
      "Cost_of_the_Product    float64\n",
      "Prior_purchases         object\n",
      "Product_importance      object\n",
      "Gender                  object\n",
      "Discount_offered       float64\n",
      "Weight_in_gms          float64\n",
      "dtype: object\n"
     ]
    }
   ],
   "source": [
    "print(X_train.dtypes)"
   ]
  },
  {
   "cell_type": "code",
   "execution_count": 36,
   "metadata": {},
   "outputs": [
    {
     "data": {
      "text/html": [
       "<div>\n",
       "<style scoped>\n",
       "    .dataframe tbody tr th:only-of-type {\n",
       "        vertical-align: middle;\n",
       "    }\n",
       "\n",
       "    .dataframe tbody tr th {\n",
       "        vertical-align: top;\n",
       "    }\n",
       "\n",
       "    .dataframe thead th {\n",
       "        text-align: right;\n",
       "    }\n",
       "</style>\n",
       "<table border=\"1\" class=\"dataframe\">\n",
       "  <thead>\n",
       "    <tr style=\"text-align: right;\">\n",
       "      <th></th>\n",
       "      <th>eigenvalue</th>\n",
       "      <th>% of variance</th>\n",
       "      <th>% of variance (cumulative)</th>\n",
       "    </tr>\n",
       "    <tr>\n",
       "      <th>component</th>\n",
       "      <th></th>\n",
       "      <th></th>\n",
       "      <th></th>\n",
       "    </tr>\n",
       "  </thead>\n",
       "  <tbody>\n",
       "    <tr>\n",
       "      <th>0</th>\n",
       "      <td>5.002</td>\n",
       "      <td>8.00%</td>\n",
       "      <td>8.00%</td>\n",
       "    </tr>\n",
       "    <tr>\n",
       "      <th>1</th>\n",
       "      <td>3.719</td>\n",
       "      <td>5.95%</td>\n",
       "      <td>13.95%</td>\n",
       "    </tr>\n",
       "    <tr>\n",
       "      <th>2</th>\n",
       "      <td>3.673</td>\n",
       "      <td>5.88%</td>\n",
       "      <td>19.83%</td>\n",
       "    </tr>\n",
       "    <tr>\n",
       "      <th>3</th>\n",
       "      <td>3.646</td>\n",
       "      <td>5.83%</td>\n",
       "      <td>25.67%</td>\n",
       "    </tr>\n",
       "    <tr>\n",
       "      <th>4</th>\n",
       "      <td>3.633</td>\n",
       "      <td>5.81%</td>\n",
       "      <td>31.48%</td>\n",
       "    </tr>\n",
       "    <tr>\n",
       "      <th>5</th>\n",
       "      <td>3.567</td>\n",
       "      <td>5.71%</td>\n",
       "      <td>37.19%</td>\n",
       "    </tr>\n",
       "    <tr>\n",
       "      <th>6</th>\n",
       "      <td>3.555</td>\n",
       "      <td>5.69%</td>\n",
       "      <td>42.87%</td>\n",
       "    </tr>\n",
       "    <tr>\n",
       "      <th>7</th>\n",
       "      <td>3.532</td>\n",
       "      <td>5.65%</td>\n",
       "      <td>48.52%</td>\n",
       "    </tr>\n",
       "    <tr>\n",
       "      <th>8</th>\n",
       "      <td>3.490</td>\n",
       "      <td>5.58%</td>\n",
       "      <td>54.11%</td>\n",
       "    </tr>\n",
       "    <tr>\n",
       "      <th>9</th>\n",
       "      <td>3.480</td>\n",
       "      <td>5.57%</td>\n",
       "      <td>59.68%</td>\n",
       "    </tr>\n",
       "    <tr>\n",
       "      <th>10</th>\n",
       "      <td>3.450</td>\n",
       "      <td>5.52%</td>\n",
       "      <td>65.20%</td>\n",
       "    </tr>\n",
       "    <tr>\n",
       "      <th>11</th>\n",
       "      <td>3.407</td>\n",
       "      <td>5.45%</td>\n",
       "      <td>70.65%</td>\n",
       "    </tr>\n",
       "    <tr>\n",
       "      <th>12</th>\n",
       "      <td>3.405</td>\n",
       "      <td>5.45%</td>\n",
       "      <td>76.10%</td>\n",
       "    </tr>\n",
       "    <tr>\n",
       "      <th>13</th>\n",
       "      <td>3.330</td>\n",
       "      <td>5.33%</td>\n",
       "      <td>81.42%</td>\n",
       "    </tr>\n",
       "    <tr>\n",
       "      <th>14</th>\n",
       "      <td>3.301</td>\n",
       "      <td>5.28%</td>\n",
       "      <td>86.71%</td>\n",
       "    </tr>\n",
       "    <tr>\n",
       "      <th>15</th>\n",
       "      <td>3.279</td>\n",
       "      <td>5.25%</td>\n",
       "      <td>91.95%</td>\n",
       "    </tr>\n",
       "    <tr>\n",
       "      <th>16</th>\n",
       "      <td>2.318</td>\n",
       "      <td>3.71%</td>\n",
       "      <td>95.66%</td>\n",
       "    </tr>\n",
       "    <tr>\n",
       "      <th>17</th>\n",
       "      <td>1.355</td>\n",
       "      <td>2.17%</td>\n",
       "      <td>97.83%</td>\n",
       "    </tr>\n",
       "    <tr>\n",
       "      <th>18</th>\n",
       "      <td>0.881</td>\n",
       "      <td>1.41%</td>\n",
       "      <td>99.24%</td>\n",
       "    </tr>\n",
       "    <tr>\n",
       "      <th>19</th>\n",
       "      <td>0.476</td>\n",
       "      <td>0.76%</td>\n",
       "      <td>100.00%</td>\n",
       "    </tr>\n",
       "  </tbody>\n",
       "</table>\n",
       "</div>"
      ],
      "text/plain": [
       "          eigenvalue % of variance % of variance (cumulative)\n",
       "component                                                    \n",
       "0              5.002         8.00%                      8.00%\n",
       "1              3.719         5.95%                     13.95%\n",
       "2              3.673         5.88%                     19.83%\n",
       "3              3.646         5.83%                     25.67%\n",
       "4              3.633         5.81%                     31.48%\n",
       "5              3.567         5.71%                     37.19%\n",
       "6              3.555         5.69%                     42.87%\n",
       "7              3.532         5.65%                     48.52%\n",
       "8              3.490         5.58%                     54.11%\n",
       "9              3.480         5.57%                     59.68%\n",
       "10             3.450         5.52%                     65.20%\n",
       "11             3.407         5.45%                     70.65%\n",
       "12             3.405         5.45%                     76.10%\n",
       "13             3.330         5.33%                     81.42%\n",
       "14             3.301         5.28%                     86.71%\n",
       "15             3.279         5.25%                     91.95%\n",
       "16             2.318         3.71%                     95.66%\n",
       "17             1.355         2.17%                     97.83%\n",
       "18             0.881         1.41%                     99.24%\n",
       "19             0.476         0.76%                    100.00%"
      ]
     },
     "execution_count": 36,
     "metadata": {},
     "output_type": "execute_result"
    }
   ],
   "source": [
    "import prince \n",
    "famd = prince.FAMD(\n",
    "    n_components=20,\n",
    "    n_iter=10,\n",
    "    copy=True,\n",
    "    check_input=True,\n",
    "    random_state=42,\n",
    "    engine=\"sklearn\",\n",
    "    handle_unknown=\"error\" \n",
    ")\n",
    "\n",
    "famd = famd.fit(X_train)\n",
    "\n",
    "famd.eigenvalues_summary"
   ]
  }
 ],
 "metadata": {
  "kernelspec": {
   "display_name": "base",
   "language": "python",
   "name": "python3"
  },
  "language_info": {
   "codemirror_mode": {
    "name": "ipython",
    "version": 3
   },
   "file_extension": ".py",
   "mimetype": "text/x-python",
   "name": "python",
   "nbconvert_exporter": "python",
   "pygments_lexer": "ipython3",
   "version": "3.11.5"
  }
 },
 "nbformat": 4,
 "nbformat_minor": 2
}
